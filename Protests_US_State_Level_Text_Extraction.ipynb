{
 "cells": [
  {
   "cell_type": "code",
   "execution_count": 17,
   "metadata": {},
   "outputs": [],
   "source": [
    "# Libraries\n",
    "import pandas as pd\n",
    "from newspaper import Article"
   ]
  },
  {
   "cell_type": "code",
   "execution_count": 18,
   "metadata": {},
   "outputs": [
    {
     "name": "stdout",
     "output_type": "stream",
     "text": [
      "4408\n",
      "4407\n"
     ]
    }
   ],
   "source": [
    "all_df = pd.read_csv('protests_blm_20200525_20200605_v3.csv')\n",
    "all_dedup_df = all_df.drop_duplicates(subset=['url'])\n",
    "print(all_df.shape[0])\n",
    "print(all_dedup_df.shape[0])"
   ]
  },
  {
   "cell_type": "code",
   "execution_count": 19,
   "metadata": {},
   "outputs": [],
   "source": [
    "# CSV files\n",
    "alabama_file = \"protests_blm_alabama_20200525_20200606_v3.csv\"\n",
    "alaska_file = \"protests_blm_alaska_20200525_20200606_v3.csv\"\n",
    "arizona_file = \"protests_blm_arizona_20200525_20200606_v3.csv\"\n",
    "arkansas_file = \"protests_blm_arkansas_20200525_20200606_v3.csv\"\n",
    "california_file = \"protests_blm_california_20200525_20200606_v3.csv\"\n",
    "colorado_file = \"protests_blm_colorado_20200525_20200606_v3.csv\"\n",
    "connecticut_file = \"protests_blm_connecticut_20200525_20200606_v3.csv\"\n",
    "delaware_file = \"protests_blm_delaware_20200525_20200606_v3.csv\"\n",
    "georgia_file = \"protests_blm_georgia_20200525_20200606_v3.csv\"\n",
    "hawaii_file = \"protests_blm_hawaii_20200525_20200606_v3.csv\"\n",
    "idaho_file = \"protests_blm_idaho_20200525_20200606_v3.csv\"\n",
    "illinois_file = \"protests_blm_illinois_20200525_20200606_v3.csv\"\n",
    "indiana_file = \"protests_blm_indiana_20200525_20200606_v3.csv\"\n",
    "iowa_file = \"protests_blm_iowa_20200525_20200606_v3.csv\"\n",
    "kansas_file = \"protests_blm_kansas_20200525_20200606_v3.csv\"\n",
    "kentucky_file = \"protests_blm_kentucky_20200525_20200606_v3.csv\"\n",
    "louisiana_file = \"protests_blm_louisiana_20200525_20200606_v3.csv\"\n",
    "maine_file = \"protests_blm_maine_20200525_20200606_v3.csv\"\n",
    "maryland_file = \"protests_blm_maryland_20200525_20200606_v3.csv\"\n",
    "massachusetts_file = \"protests_blm_massachusetts_20200525_20200606_v3.csv\"\n",
    "michigan_file = \"protests_blm_michigan_20200525_20200606_v3.csv\"\n",
    "minnesota_file = \"protests_blm_minnesota_20200525_20200606_v3.csv\"\n",
    "mississippi_file = \"protests_blm_mississippi_20200525_20200606_v3.csv\"\n",
    "missouri_file = \"protests_blm_missouri_20200525_20200606_v3.csv\"\n",
    "montana_file = \"protests_blm_montana_20200525_20200606_v3.csv\"\n",
    "nebraska_file = \"protests_blm_nebraska_20200525_20200606_v3.csv\"\n",
    "nevada_file = \"protests_blm_nevada_20200525_20200606_v3.csv\"\n",
    "new_hampshire_file = \"protests_blm_new_hampshire_20200525_20200606_v3.csv\"\n",
    "new_jersey_file = \"protests_blm_new_jersey_20200525_20200606_v3.csv\"\n",
    "new_mexico_file = \"protests_blm_new_mexico_20200525_20200606_v3.csv\"\n",
    "new_york_file = \"protests_blm_new_york_20200525_20200606_v3.csv\"\n",
    "north_carolina_file = \"protests_blm_north_carolina_20200525_20200606_v3.csv\"\n",
    "north_dakota_file = \"protests_blm_north_dakota_20200525_20200606_v3.csv\"\n",
    "ohio_file = \"protests_blm_ohio_20200525_20200606_v3.csv\"\n",
    "oklahoma_file = \"protests_blm_oklahoma_20200525_20200606_v3.csv\"\n",
    "oregon_file = \"protests_blm_oregon_20200525_20200606_v3.csv\"\n",
    "pennsylvania_file = \"protests_blm_pennsylvania_20200525_20200606_v3.csv\"\n",
    "rhode_island_file = \"protests_blm_rhode_island_20200525_20200606_v3.csv\"\n",
    "south_carolina_file = \"protests_blm_south_carolina_20200525_20200606_v3.csv\"\n",
    "south_dakota_file = \"protests_blm_south_dakota_20200525_20200606_v3.csv\"\n",
    "tennessee_file = \"protests_blm_tennessee_20200525_20200606_v3.csv\"\n",
    "texas_file = \"protests_blm_texas_20200525_20200606_v3.csv\"\n",
    "utah_file = \"protests_blm_utah_20200525_20200606_v3.csv\"\n",
    "vermont_file = \"protests_blm_vermont_20200525_20200606_v3.csv\"\n",
    "virginia_file = \"protests_blm_virginia_20200525_20200606_v3.csv\"\n",
    "washington_file = \"protests_blm_washington_20200525_20200606_v3.csv\"\n",
    "west_virginia_file = \"protests_blm_west_virginia_20200525_20200606_v3.csv\"\n",
    "wisconsin_file = \"protests_blm_wisconsin_20200525_20200606_v3.csv\"\n",
    "wyoming_file = \"protests_blm_wyoming_20200525_20200606_v3.csv\"\n",
    "district_columbia_file = \"protests_blm_district_columbia_20200525_20200606_v3.csv\""
   ]
  },
  {
   "cell_type": "code",
   "execution_count": 20,
   "metadata": {},
   "outputs": [],
   "source": [
    "california_news_df = pd.read_csv(california_file)\n",
    "vermont_news_df = pd.read_csv(vermont_file)"
   ]
  },
  {
   "cell_type": "code",
   "execution_count": 21,
   "metadata": {},
   "outputs": [],
   "source": [
    "california_news_dedup_df = california_news_df.drop_duplicates(subset=['url'])\n",
    "vermont_news_dedup_df = vermont_news_df.drop_duplicates(subset=['url'])"
   ]
  },
  {
   "cell_type": "code",
   "execution_count": 22,
   "metadata": {},
   "outputs": [
    {
     "data": {
      "text/plain": [
       "17146"
      ]
     },
     "execution_count": 22,
     "metadata": {},
     "output_type": "execute_result"
    }
   ],
   "source": [
    "california_news_df.shape[0]"
   ]
  },
  {
   "cell_type": "code",
   "execution_count": 23,
   "metadata": {},
   "outputs": [
    {
     "data": {
      "text/plain": [
       "9456"
      ]
     },
     "execution_count": 23,
     "metadata": {},
     "output_type": "execute_result"
    }
   ],
   "source": [
    "california_news_dedup_df.shape[0]"
   ]
  },
  {
   "cell_type": "code",
   "execution_count": 24,
   "metadata": {},
   "outputs": [
    {
     "data": {
      "text/plain": [
       "81"
      ]
     },
     "execution_count": 24,
     "metadata": {},
     "output_type": "execute_result"
    }
   ],
   "source": [
    "vermont_news_df.shape[0]"
   ]
  },
  {
   "cell_type": "code",
   "execution_count": 25,
   "metadata": {},
   "outputs": [
    {
     "data": {
      "text/plain": [
       "75"
      ]
     },
     "execution_count": 25,
     "metadata": {},
     "output_type": "execute_result"
    }
   ],
   "source": [
    "vermont_news_dedup_df.shape[0]"
   ]
  },
  {
   "cell_type": "code",
   "execution_count": 26,
   "metadata": {},
   "outputs": [],
   "source": [
    "# Corresponding dataframes\n",
    "alabama_news_df = pd.read_csv(alabama_file)\n",
    "alaska_news_df = pd.read_csv(alaska_file)\n",
    "arizona_news_df = pd.read_csv(arizona_file)\n",
    "arkansas_news_df = pd.read_csv(arkansas_file)"
   ]
  },
  {
   "cell_type": "code",
   "execution_count": 27,
   "metadata": {},
   "outputs": [],
   "source": [
    "colorado_news_df = pd.read_csv(colorado_file)\n",
    "connecticut_news_df = pd.read_csv(connecticut_file)\n",
    "delaware_news_df = pd.read_csv(delaware_file) "
   ]
  },
  {
   "cell_type": "code",
   "execution_count": 28,
   "metadata": {},
   "outputs": [],
   "source": [
    "georgia_news_df = pd.read_csv(georgia_file) \n",
    "hawaii_news_df = pd.read_csv(hawaii_file) \n",
    "idaho_news_df = pd.read_csv(idaho_file)\n",
    "illinois_news_df = pd.read_csv(illinois_file)\n",
    "indiana_news_df = pd.read_csv(indiana_file) \n",
    "iowa_news_df = pd.read_csv(iowa_file)\n",
    "kansas_news_df = pd.read_csv(kansas_file)\n",
    "kentucky_news_df = pd.read_csv(kentucky_file)\n",
    "louisiana_news_df = pd.read_csv(louisiana_file) \n",
    "maine_news_df = pd.read_csv(maine_file) \n",
    "maryland_news_df = pd.read_csv(maryland_file) \n",
    "massachusetts_news_df = pd.read_csv(massachusetts_file) "
   ]
  },
  {
   "cell_type": "code",
   "execution_count": 65,
   "metadata": {},
   "outputs": [
    {
     "data": {
      "text/html": [
       "<div>\n",
       "<style scoped>\n",
       "    .dataframe tbody tr th:only-of-type {\n",
       "        vertical-align: middle;\n",
       "    }\n",
       "\n",
       "    .dataframe tbody tr th {\n",
       "        vertical-align: top;\n",
       "    }\n",
       "\n",
       "    .dataframe thead th {\n",
       "        text-align: right;\n",
       "    }\n",
       "</style>\n",
       "<table border=\"1\" class=\"dataframe\">\n",
       "  <thead>\n",
       "    <tr style=\"text-align: right;\">\n",
       "      <th></th>\n",
       "      <th>stories_id</th>\n",
       "      <th>publish_date</th>\n",
       "      <th>title</th>\n",
       "      <th>url</th>\n",
       "      <th>language</th>\n",
       "      <th>ap_syndicated</th>\n",
       "      <th>themes</th>\n",
       "      <th>media_id</th>\n",
       "      <th>media_name</th>\n",
       "      <th>media_url</th>\n",
       "      <th>text</th>\n",
       "      <th>not_available</th>\n",
       "    </tr>\n",
       "  </thead>\n",
       "  <tbody>\n",
       "    <tr>\n",
       "      <th>0</th>\n",
       "      <td>1616133823</td>\n",
       "      <td>2020-05-25 05:29:01</td>\n",
       "      <td>Idahos Lt. Gov. Janice McGeachin Has Gone Rogu...</td>\n",
       "      <td>https://www.thedailybeast.com/idahos-lt-gov-ja...</td>\n",
       "      <td>en</td>\n",
       "      <td>False</td>\n",
       "      <td>NaN</td>\n",
       "      <td>658820</td>\n",
       "      <td>State News - United States - Idaho</td>\n",
       "      <td>http://www.idaho.statenews.net/</td>\n",
       "      <td>NA</td>\n",
       "      <td>1.0</td>\n",
       "    </tr>\n",
       "    <tr>\n",
       "      <th>1</th>\n",
       "      <td>1616728811</td>\n",
       "      <td>2020-05-26 03:08:31</td>\n",
       "      <td>Boston man allegedly set American flag on fire...</td>\n",
       "      <td>http://590kid.com/boston-man-allegedly-set-ame...</td>\n",
       "      <td>en</td>\n",
       "      <td>False</td>\n",
       "      <td>NaN</td>\n",
       "      <td>448292</td>\n",
       "      <td>590kid.com</td>\n",
       "      <td>http://590kid.com/</td>\n",
       "      <td>NA</td>\n",
       "      <td>1.0</td>\n",
       "    </tr>\n",
       "    <tr>\n",
       "      <th>2</th>\n",
       "      <td>1617133761</td>\n",
       "      <td>2020-05-26 11:46:12</td>\n",
       "      <td>FBI called in to investigate death of black ma...</td>\n",
       "      <td>http://590kid.com/fbi-called-in-to-investigate...</td>\n",
       "      <td>en</td>\n",
       "      <td>False</td>\n",
       "      <td>NaN</td>\n",
       "      <td>448292</td>\n",
       "      <td>590kid.com</td>\n",
       "      <td>http://590kid.com/</td>\n",
       "      <td>NA</td>\n",
       "      <td>1.0</td>\n",
       "    </tr>\n",
       "    <tr>\n",
       "      <th>3</th>\n",
       "      <td>1617167680</td>\n",
       "      <td>2020-05-26 10:22:00</td>\n",
       "      <td>Heat Check: Got A Big Ego</td>\n",
       "      <td>https://www.boisestatepublicradio.org/post/hea...</td>\n",
       "      <td>en</td>\n",
       "      <td>False</td>\n",
       "      <td>NaN</td>\n",
       "      <td>138019</td>\n",
       "      <td>boisestatepublicradio.org</td>\n",
       "      <td>http://boisestatepublicradio.org/</td>\n",
       "      <td>NA</td>\n",
       "      <td>1.0</td>\n",
       "    </tr>\n",
       "    <tr>\n",
       "      <th>4</th>\n",
       "      <td>1617638595</td>\n",
       "      <td>2020-05-27 01:45:06</td>\n",
       "      <td>Protesters clash with Minneapolis police after...</td>\n",
       "      <td>http://590kid.com/protesters-clash-with-minnea...</td>\n",
       "      <td>en</td>\n",
       "      <td>False</td>\n",
       "      <td>NaN</td>\n",
       "      <td>448292</td>\n",
       "      <td>590kid.com</td>\n",
       "      <td>http://590kid.com/</td>\n",
       "      <td>NA</td>\n",
       "      <td>1.0</td>\n",
       "    </tr>\n",
       "  </tbody>\n",
       "</table>\n",
       "</div>"
      ],
      "text/plain": [
       "   stories_id         publish_date  \\\n",
       "0  1616133823  2020-05-25 05:29:01   \n",
       "1  1616728811  2020-05-26 03:08:31   \n",
       "2  1617133761  2020-05-26 11:46:12   \n",
       "3  1617167680  2020-05-26 10:22:00   \n",
       "4  1617638595  2020-05-27 01:45:06   \n",
       "\n",
       "                                               title  \\\n",
       "0  Idahos Lt. Gov. Janice McGeachin Has Gone Rogu...   \n",
       "1  Boston man allegedly set American flag on fire...   \n",
       "2  FBI called in to investigate death of black ma...   \n",
       "3                          Heat Check: Got A Big Ego   \n",
       "4  Protesters clash with Minneapolis police after...   \n",
       "\n",
       "                                                 url language  ap_syndicated  \\\n",
       "0  https://www.thedailybeast.com/idahos-lt-gov-ja...       en          False   \n",
       "1  http://590kid.com/boston-man-allegedly-set-ame...       en          False   \n",
       "2  http://590kid.com/fbi-called-in-to-investigate...       en          False   \n",
       "3  https://www.boisestatepublicradio.org/post/hea...       en          False   \n",
       "4  http://590kid.com/protesters-clash-with-minnea...       en          False   \n",
       "\n",
       "  themes  media_id                          media_name  \\\n",
       "0    NaN    658820  State News - United States - Idaho   \n",
       "1    NaN    448292                          590kid.com   \n",
       "2    NaN    448292                          590kid.com   \n",
       "3    NaN    138019           boisestatepublicradio.org   \n",
       "4    NaN    448292                          590kid.com   \n",
       "\n",
       "                           media_url text  not_available  \n",
       "0    http://www.idaho.statenews.net/   NA            1.0  \n",
       "1                 http://590kid.com/   NA            1.0  \n",
       "2                 http://590kid.com/   NA            1.0  \n",
       "3  http://boisestatepublicradio.org/   NA            1.0  \n",
       "4                 http://590kid.com/   NA            1.0  "
      ]
     },
     "execution_count": 65,
     "metadata": {},
     "output_type": "execute_result"
    }
   ],
   "source": [
    "illinois_news_df.head()"
   ]
  },
  {
   "cell_type": "code",
   "execution_count": 29,
   "metadata": {},
   "outputs": [],
   "source": [
    "michigan_news_df = pd.read_csv(michigan_file)\n",
    "minnesota_news_df = pd.read_csv(minnesota_file)\n",
    "mississippi_news_df = pd.read_csv(mississippi_file)\n",
    "missouri_news_df = pd.read_csv(missouri_file)\n",
    "montana_news_df = pd.read_csv(montana_file)\n",
    "nebraska_news_df = pd.read_csv(nebraska_file) \n",
    "nevada_news_df = pd.read_csv(nevada_file) \n",
    "new_hampshire_news_df = pd.read_csv(new_hampshire_file)\n",
    "new_jersey_news_df = pd.read_csv(new_jersey_file) \n",
    "new_mexico_news_df = pd.read_csv(new_mexico_file) \n",
    "new_york_news_df = pd.read_csv(new_york_file) \n",
    "north_carolina_news_df = pd.read_csv(north_carolina_file) \n",
    "north_dakota_news_df = pd.read_csv(north_dakota_file)\n",
    "ohio_news_df = pd.read_csv(ohio_file)\n",
    "oklahoma_news_df = pd.read_csv(oklahoma_file)"
   ]
  },
  {
   "cell_type": "code",
   "execution_count": 30,
   "metadata": {},
   "outputs": [],
   "source": [
    "oregon_news_df = pd.read_csv(oregon_file)\n",
    "pennsylvania_news_df = pd.read_csv(pennsylvania_file) \n",
    "rhode_island_news_df = pd.read_csv(rhode_island_file) \n",
    "south_carolina_news_df = pd.read_csv(south_carolina_file)\n",
    "south_dakota_news_df = pd.read_csv(south_dakota_file) \n",
    "tennessee_news_df = pd.read_csv(tennessee_file)\n",
    "texas_news_df = pd.read_csv(texas_file)\n",
    "utah_news_df = pd.read_csv(utah_file)\n",
    "vermont_news_df = pd.read_csv(vermont_file) \n",
    "virginia_news_df = pd.read_csv(virginia_file) \n",
    "washington_news_df = pd.read_csv(washington_file)\n",
    "west_virginia_news_df = pd.read_csv(west_virginia_file) \n",
    "wisconsin_news_df = pd.read_csv(wisconsin_file) \n",
    "wyoming_news_df = pd.read_csv(wyoming_file) \n",
    "district_columbia_news_df = pd.read_csv(district_columbia_file)"
   ]
  },
  {
   "cell_type": "code",
   "execution_count": 31,
   "metadata": {},
   "outputs": [],
   "source": [
    "# Number of articles for each news media\n",
    "alabama_news_size = alabama_news_df.shape[0]\n",
    "alaska_news_size = alaska_news_df.shape[0]\n",
    "arizona_news_size = arizona_news_df.shape[0]\n",
    "arkansas_news_size = arkansas_news_df.shape[0]\n",
    "california_news_size = california_news_df.shape[0]"
   ]
  },
  {
   "cell_type": "code",
   "execution_count": 32,
   "metadata": {},
   "outputs": [],
   "source": [
    "colorado_news_size = colorado_news_df.shape[0]\n",
    "connecticut_news_size = connecticut_news_df.shape[0]\n",
    "delaware_news_size = delaware_news_df.shape[0]\n",
    "georgia_news_size = georgia_news_df.shape[0]\n",
    "hawaii_news_size = hawaii_news_df.shape[0]\n",
    "idaho_news_size = idaho_news_df.shape[0]\n",
    "illinois_news_size = illinois_news_df.shape[0]\n",
    "indiana_news_size = indiana_news_df.shape[0] \n",
    "iowa_news_size = iowa_news_df.shape[0]\n",
    "kansas_news_size = kansas_news_df.shape[0]\n",
    "kentucky_news_size = kentucky_news_df.shape[0]\n",
    "louisiana_news_size = louisiana_news_df.shape[0]\n",
    "maine_news_size = maine_news_df.shape[0]\n",
    "maryland_news_size = maryland_news_df.shape[0]\n",
    "massachusetts_news_size = massachusetts_news_df.shape[0]"
   ]
  },
  {
   "cell_type": "code",
   "execution_count": 33,
   "metadata": {},
   "outputs": [],
   "source": [
    "michigan_news_size = michigan_news_df.shape[0]\n",
    "minnesota_news_size = minnesota_news_df.shape[0]\n",
    "mississippi_news_size = mississippi_news_df.shape[0]\n",
    "missouri_news_size = missouri_news_df.shape[0]\n",
    "montana_news_size = montana_news_df.shape[0]\n",
    "nebraska_news_size = nebraska_news_df.shape[0] \n",
    "nevada_news_size = nevada_news_df.shape[0] \n",
    "new_hampshire_news_size = new_hampshire_news_df.shape[0]\n",
    "new_jersey_news_size = new_jersey_news_df.shape[0]\n",
    "new_mexico_news_size = new_mexico_news_df.shape[0]\n",
    "new_york_news_size = new_york_news_df.shape[0]\n",
    "north_carolina_news_size = north_carolina_news_df.shape[0]\n",
    "north_dakota_news_size = north_dakota_news_df.shape[0]\n",
    "ohio_news_size = ohio_news_df.shape[0]\n",
    "oklahoma_news_size = oklahoma_news_df.shape[0]"
   ]
  },
  {
   "cell_type": "code",
   "execution_count": 34,
   "metadata": {},
   "outputs": [],
   "source": [
    "oregon_news_size = oregon_news_df.shape[0]\n",
    "pennsylvania_news_size = pennsylvania_news_df.shape[0]\n",
    "rhode_island_news_size = rhode_island_news_df.shape[0]\n",
    "south_carolina_news_size = south_carolina_news_df.shape[0]\n",
    "south_dakota_news_size = south_dakota_news_df.shape[0]\n",
    "tennessee_news_size = tennessee_news_df.shape[0]\n",
    "texas_news_size = texas_news_df.shape[0]\n",
    "utah_news_size = utah_news_df.shape[0]\n",
    "vermont_news_size = vermont_news_df.shape[0]\n",
    "virginia_news_size = virginia_news_df.shape[0]\n",
    "washington_news_size = washington_news_df.shape[0]\n",
    "west_virginia_news_size = west_virginia_news_df.shape[0]\n",
    "wisconsin_news_size = wisconsin_news_df.shape[0]\n",
    "wyoming_news_size = wyoming_news_df.shape[0]\n",
    "district_columbia_news_size = district_columbia_news_df.shape[0]"
   ]
  },
  {
   "cell_type": "code",
   "execution_count": 35,
   "metadata": {},
   "outputs": [
    {
     "name": "stdout",
     "output_type": "stream",
     "text": [
      "Alabama:  555\n",
      "Alaska:  211\n",
      "Arizona:  3784\n",
      "Arkansas:  1170\n",
      "California:  17146\n"
     ]
    }
   ],
   "source": [
    "# Number of articles per state - 05/25/2020 to 06/06/2020\n",
    "print('Alabama: ', alabama_news_size)\n",
    "print('Alaska: ', alaska_news_size)\n",
    "print('Arizona: ', arizona_news_size)\n",
    "print('Arkansas: ', arkansas_news_size)\n",
    "print('California: ', california_news_size)"
   ]
  },
  {
   "cell_type": "code",
   "execution_count": 36,
   "metadata": {},
   "outputs": [
    {
     "name": "stdout",
     "output_type": "stream",
     "text": [
      "Colorado :  1525\n",
      "Connecticut :  771\n",
      "Delaware :  222\n",
      "Georgia :  1819\n",
      "Hawaii :  182\n",
      "Idaho :  4380\n",
      "Illinois :  254\n",
      "Indiana :  1589\n",
      "Iowa :  1047\n",
      "Kansas :  1598\n",
      "Kentucky :  490\n",
      "Louisiana :  753\n",
      "Maine :  442\n",
      "Maryland :  775\n",
      "Massachusetts :  3801\n"
     ]
    }
   ],
   "source": [
    "print('Colorado : ', colorado_news_size)\n",
    "print('Connecticut : ', connecticut_news_size)\n",
    "print('Delaware : ', delaware_news_size)\n",
    "print('Georgia : ', georgia_news_size)\n",
    "print('Hawaii : ', hawaii_news_size)\n",
    "print('Idaho : ', idaho_news_size)\n",
    "print('Illinois : ', illinois_news_size)\n",
    "print('Indiana : ', indiana_news_size)\n",
    "print('Iowa : ', iowa_news_size)\n",
    "print('Kansas : ', kansas_news_size)\n",
    "print('Kentucky : ', kentucky_news_size)\n",
    "print('Louisiana : ', louisiana_news_size)\n",
    "print('Maine : ', maine_news_size)\n",
    "print('Maryland : ', maryland_news_size)\n",
    "print('Massachusetts : ', massachusetts_news_size)"
   ]
  },
  {
   "cell_type": "code",
   "execution_count": 37,
   "metadata": {},
   "outputs": [
    {
     "name": "stdout",
     "output_type": "stream",
     "text": [
      "Michigan:  1339\n",
      "Minnesota:  1971\n",
      "Mississipi:  224\n",
      "Missouri:  1100\n",
      "Montana:  153\n",
      "Nebraska:  307\n",
      "Nevada:  1075\n",
      "New Hampshire:  445\n",
      "New Jersey:  457\n",
      "New Mexico:  608\n",
      "New York:  3732\n",
      "North Carolina:  1195\n",
      "North Dakota:  384\n",
      "Ohio:  3790\n",
      "Oklahoma:  677\n"
     ]
    }
   ],
   "source": [
    "print('Michigan: ', michigan_news_size)\n",
    "print('Minnesota: ', minnesota_news_size)\n",
    "print('Mississipi: ', mississippi_news_size)\n",
    "print('Missouri: ', missouri_news_size) \n",
    "print('Montana: ', montana_news_size)\n",
    "print('Nebraska: ', nebraska_news_size)\n",
    "print('Nevada: ', nevada_news_size)\n",
    "print('New Hampshire: ', new_hampshire_news_size)\n",
    "print('New Jersey: ', new_jersey_news_size)\n",
    "print('New Mexico: ', new_mexico_news_size)\n",
    "print('New York: ', new_york_news_size)\n",
    "print('North Carolina: ', north_carolina_news_size)\n",
    "print('North Dakota: ', north_dakota_news_size)\n",
    "print('Ohio: ', ohio_news_size)\n",
    "print('Oklahoma: ', oklahoma_news_size)"
   ]
  },
  {
   "cell_type": "code",
   "execution_count": 38,
   "metadata": {},
   "outputs": [
    {
     "name": "stdout",
     "output_type": "stream",
     "text": [
      "Oregon:  416\n",
      "Pennsylvania:  1238\n",
      "Rhode Island:  540\n",
      "South Carolina:  1102\n",
      "South Dakota:  346\n",
      "Tennessee:  709\n",
      "Texas:  4184\n",
      "Utah:  442\n",
      "Vermont:  81\n",
      "Virginia:  700\n",
      "Washington:  1251\n",
      "West Virginia:  337\n",
      "Wisconsin:  2111\n",
      "Wyoming:  139\n",
      "District of Columbia:  862\n"
     ]
    }
   ],
   "source": [
    "print('Oregon: ', oregon_news_size)\n",
    "print('Pennsylvania: ', pennsylvania_news_size)\n",
    "print('Rhode Island: ', rhode_island_news_size)\n",
    "print('South Carolina: ', south_carolina_news_size)\n",
    "print('South Dakota: ', south_dakota_news_size)\n",
    "print('Tennessee: ', tennessee_news_size)\n",
    "print('Texas: ', texas_news_size)\n",
    "print('Utah: ', utah_news_size)\n",
    "print('Vermont: ', vermont_news_size)\n",
    "print('Virginia: ', virginia_news_size)\n",
    "print('Washington: ', washington_news_size)\n",
    "print('West Virginia: ', west_virginia_news_size)\n",
    "print('Wisconsin: ', wisconsin_news_size)\n",
    "print('Wyoming: ', wyoming_news_size)\n",
    "print('District of Columbia: ', district_columbia_news_size)"
   ]
  },
  {
   "cell_type": "markdown",
   "metadata": {},
   "source": [
    "### Alabama"
   ]
  },
  {
   "cell_type": "code",
   "execution_count": 9,
   "metadata": {},
   "outputs": [
    {
     "name": "stdout",
     "output_type": "stream",
     "text": [
      "Number of articles to be processed:  555\n",
      "Currently processing article number:  0\n",
      "Currently processing article number:  100\n",
      "Currently processing article number:  200\n",
      "Currently processing article number:  300\n",
      "Currently processing article number:  400\n",
      "Currently processing article number:  500\n"
     ]
    }
   ],
   "source": [
    "print('Number of articles to be processed: ', alabama_news_size)\n",
    "\n",
    "for i in range(alabama_news_size):\n",
    "    # Where are we?\n",
    "    if i%100 == 0:\n",
    "        print('Currently processing article number: ', i)\n",
    "    # Load article    \n",
    "    url = alabama_news_df.loc[i,\"url\"] \n",
    "    article = Article(url.strip())\n",
    "    \n",
    "    # Extract the text\n",
    "    try:\n",
    "        article.download()\n",
    "        article.parse()\n",
    "        text = article.text\n",
    "        \n",
    "        alabama_news_df.loc[i,\"text\"] = text.replace('\\n\\n', ' ')  \n",
    "        alabama_news_df.loc[i,\"not_available\"] = 0\n",
    "    \n",
    "    # Otherwise, indicate as not available\n",
    "    except:\n",
    "        alabama_news_df.loc[i,\"text\"] = \"NA\"\n",
    "        alabama_news_df.loc[i,\"not_available\"] = 1\n",
    "        continue "
   ]
  },
  {
   "cell_type": "code",
   "execution_count": 21,
   "metadata": {},
   "outputs": [],
   "source": [
    "alabama_news_result_file = \"protests_project/alabama_news_results.csv\"\n",
    "alabama_news_df.to_csv(alabama_news_result_file, index=False, encoding='utf-8')"
   ]
  },
  {
   "cell_type": "code",
   "execution_count": 22,
   "metadata": {},
   "outputs": [
    {
     "data": {
      "text/plain": [
       "0.0    490\n",
       "1.0     65\n",
       "Name: not_available, dtype: int64"
      ]
     },
     "execution_count": 22,
     "metadata": {},
     "output_type": "execute_result"
    }
   ],
   "source": [
    "alabama_news_df['not_available'].value_counts()"
   ]
  },
  {
   "cell_type": "code",
   "execution_count": 11,
   "metadata": {},
   "outputs": [
    {
     "data": {
      "text/plain": [
       "0.0    0.882883\n",
       "1.0    0.117117\n",
       "Name: not_available, dtype: float64"
      ]
     },
     "execution_count": 11,
     "metadata": {},
     "output_type": "execute_result"
    }
   ],
   "source": [
    "alabama_news_df['not_available'].value_counts(normalize=True)"
   ]
  },
  {
   "cell_type": "markdown",
   "metadata": {},
   "source": [
    "### Alaska"
   ]
  },
  {
   "cell_type": "code",
   "execution_count": 5,
   "metadata": {},
   "outputs": [
    {
     "name": "stdout",
     "output_type": "stream",
     "text": [
      "Number of articles to be processed:  211\n",
      "Currently processing article number:  0\n",
      "Currently processing article number:  100\n",
      "Currently processing article number:  200\n"
     ]
    }
   ],
   "source": [
    "print('Number of articles to be processed: ', alaska_news_size)\n",
    "\n",
    "for i in range(alaska_news_size):\n",
    "    # Where are we?\n",
    "    if i%100 == 0:\n",
    "        print('Currently processing article number: ', i)\n",
    "    # Load article    \n",
    "    url = alaska_news_df.loc[i,\"url\"] \n",
    "    article = Article(url.strip())\n",
    "    \n",
    "    # Extract the text\n",
    "    try:\n",
    "        article.download()\n",
    "        article.parse()\n",
    "        text = article.text\n",
    "        \n",
    "        alaska_news_df.loc[i,\"text\"] = text.replace('\\n\\n', ' ')  \n",
    "        alaska_news_df.loc[i,\"not_available\"] = 0\n",
    "    \n",
    "    # Otherwise, indicate as not available\n",
    "    except:\n",
    "        alaska_news_df.loc[i,\"text\"] = \"NA\"\n",
    "        alaska_news_df.loc[i,\"not_available\"] = 1\n",
    "        continue "
   ]
  },
  {
   "cell_type": "code",
   "execution_count": 6,
   "metadata": {},
   "outputs": [],
   "source": [
    "alaska_news_result_file = \"protests_project/alaska_news_results.csv\"\n",
    "alaska_news_df.to_csv(alaska_news_result_file, index=False, encoding='utf-8')"
   ]
  },
  {
   "cell_type": "code",
   "execution_count": 18,
   "metadata": {},
   "outputs": [
    {
     "data": {
      "text/plain": [
       "0.0    147\n",
       "1.0     64\n",
       "Name: not_available, dtype: int64"
      ]
     },
     "execution_count": 18,
     "metadata": {},
     "output_type": "execute_result"
    }
   ],
   "source": [
    "alaska_news_df['not_available'].value_counts()"
   ]
  },
  {
   "cell_type": "code",
   "execution_count": 7,
   "metadata": {},
   "outputs": [
    {
     "data": {
      "text/plain": [
       "0.0    0.696682\n",
       "1.0    0.303318\n",
       "Name: not_available, dtype: float64"
      ]
     },
     "execution_count": 7,
     "metadata": {},
     "output_type": "execute_result"
    }
   ],
   "source": [
    "alaska_news_df['not_available'].value_counts(normalize=True)"
   ]
  },
  {
   "cell_type": "markdown",
   "metadata": {},
   "source": [
    "### Arizona"
   ]
  },
  {
   "cell_type": "code",
   "execution_count": 8,
   "metadata": {},
   "outputs": [
    {
     "name": "stdout",
     "output_type": "stream",
     "text": [
      "Number of articles to be processed:  3784\n",
      "Currently processing article number:  0\n",
      "Currently processing article number:  100\n",
      "Currently processing article number:  200\n",
      "Currently processing article number:  300\n",
      "Currently processing article number:  400\n",
      "Currently processing article number:  500\n",
      "Currently processing article number:  600\n",
      "Currently processing article number:  700\n",
      "Currently processing article number:  800\n",
      "Currently processing article number:  900\n",
      "Currently processing article number:  1000\n",
      "Currently processing article number:  1100\n",
      "Currently processing article number:  1200\n",
      "Currently processing article number:  1300\n",
      "Currently processing article number:  1400\n",
      "Currently processing article number:  1500\n",
      "Currently processing article number:  1600\n",
      "Currently processing article number:  1700\n",
      "Currently processing article number:  1800\n",
      "Currently processing article number:  1900\n",
      "Currently processing article number:  2000\n",
      "Currently processing article number:  2100\n",
      "Currently processing article number:  2200\n",
      "Currently processing article number:  2300\n",
      "Currently processing article number:  2400\n",
      "Currently processing article number:  2500\n",
      "Currently processing article number:  2600\n",
      "Currently processing article number:  2700\n",
      "Currently processing article number:  2800\n",
      "Currently processing article number:  2900\n",
      "Currently processing article number:  3000\n",
      "Currently processing article number:  3100\n",
      "Currently processing article number:  3200\n",
      "Currently processing article number:  3300\n",
      "Currently processing article number:  3400\n",
      "Currently processing article number:  3500\n",
      "Currently processing article number:  3600\n",
      "Currently processing article number:  3700\n"
     ]
    }
   ],
   "source": [
    "print('Number of articles to be processed: ',arizona_news_size)\n",
    "\n",
    "for i in range(arizona_news_size):\n",
    "    # Where are we?\n",
    "    if i%100 == 0:\n",
    "        print('Currently processing article number: ', i)\n",
    "    # Load article    \n",
    "    url = arizona_news_df.loc[i,\"url\"] \n",
    "    article = Article(url.strip())\n",
    "    \n",
    "    # Extract the text\n",
    "    try:\n",
    "        article.download()\n",
    "        article.parse()\n",
    "        text = article.text\n",
    "        \n",
    "        arizona_news_df.loc[i,\"text\"] = text.replace('\\n\\n', ' ')  \n",
    "        arizona_news_df.loc[i,\"not_available\"] = 0\n",
    "    \n",
    "    # Otherwise, indicate as not available\n",
    "    except:\n",
    "        arizona_news_df.loc[i,\"text\"] = \"NA\"\n",
    "        arizona_news_df.loc[i,\"not_available\"] = 1\n",
    "        continue "
   ]
  },
  {
   "cell_type": "code",
   "execution_count": 9,
   "metadata": {},
   "outputs": [],
   "source": [
    "arizona_news_result_file = \"protests_project/arizona_news_results.csv\"\n",
    "arizona_news_df.to_csv(arizona_news_result_file, index=False, encoding='utf-8')"
   ]
  },
  {
   "cell_type": "code",
   "execution_count": 17,
   "metadata": {},
   "outputs": [
    {
     "data": {
      "text/plain": [
       "0.0    3725\n",
       "1.0      59\n",
       "Name: not_available, dtype: int64"
      ]
     },
     "execution_count": 17,
     "metadata": {},
     "output_type": "execute_result"
    }
   ],
   "source": [
    "arizona_news_df['not_available'].value_counts()"
   ]
  },
  {
   "cell_type": "code",
   "execution_count": 10,
   "metadata": {},
   "outputs": [
    {
     "data": {
      "text/plain": [
       "0.0    0.984408\n",
       "1.0    0.015592\n",
       "Name: not_available, dtype: float64"
      ]
     },
     "execution_count": 10,
     "metadata": {},
     "output_type": "execute_result"
    }
   ],
   "source": [
    "arizona_news_df['not_available'].value_counts(normalize=True)"
   ]
  },
  {
   "cell_type": "markdown",
   "metadata": {},
   "source": [
    "### Arkansas"
   ]
  },
  {
   "cell_type": "code",
   "execution_count": 11,
   "metadata": {},
   "outputs": [
    {
     "name": "stdout",
     "output_type": "stream",
     "text": [
      "Number of articles to be processed:  1170\n",
      "Currently processing article number:  0\n",
      "Currently processing article number:  100\n",
      "Currently processing article number:  200\n",
      "Currently processing article number:  300\n",
      "Currently processing article number:  400\n",
      "Currently processing article number:  500\n",
      "Currently processing article number:  600\n",
      "Currently processing article number:  700\n",
      "Currently processing article number:  800\n",
      "Currently processing article number:  900\n",
      "Currently processing article number:  1000\n",
      "Currently processing article number:  1100\n"
     ]
    }
   ],
   "source": [
    "print('Number of articles to be processed: ',arkansas_news_size)\n",
    "\n",
    "for i in range(arkansas_news_size):\n",
    "    # Where are we?\n",
    "    if i%100 == 0:\n",
    "        print('Currently processing article number: ', i)\n",
    "    # Load article    \n",
    "    url = arkansas_news_df.loc[i,\"url\"] \n",
    "    article = Article(url.strip())\n",
    "    \n",
    "    # Extract the text\n",
    "    try:\n",
    "        article.download()\n",
    "        article.parse()\n",
    "        text = article.text\n",
    "        \n",
    "        arkansas_news_df.loc[i,\"text\"] = text.replace('\\n\\n', ' ')  \n",
    "        arkansas_news_df.loc[i,\"not_available\"] = 0\n",
    "    \n",
    "    # Otherwise, indicate as not available\n",
    "    except:\n",
    "        arkansas_news_df.loc[i,\"text\"] = \"NA\"\n",
    "        arkansas_news_df.loc[i,\"not_available\"] = 1\n",
    "        continue "
   ]
  },
  {
   "cell_type": "code",
   "execution_count": 12,
   "metadata": {},
   "outputs": [],
   "source": [
    "arkansas_news_result_file = \"protests_project/arkansas_news_results.csv\"\n",
    "arkansas_news_df.to_csv(arkansas_news_result_file, index=False, encoding='utf-8')"
   ]
  },
  {
   "cell_type": "code",
   "execution_count": 16,
   "metadata": {},
   "outputs": [
    {
     "data": {
      "text/plain": [
       "0.0    1160\n",
       "1.0      10\n",
       "Name: not_available, dtype: int64"
      ]
     },
     "execution_count": 16,
     "metadata": {},
     "output_type": "execute_result"
    }
   ],
   "source": [
    "arkansas_news_df['not_available'].value_counts()"
   ]
  },
  {
   "cell_type": "code",
   "execution_count": 13,
   "metadata": {},
   "outputs": [
    {
     "data": {
      "text/plain": [
       "0.0    0.991453\n",
       "1.0    0.008547\n",
       "Name: not_available, dtype: float64"
      ]
     },
     "execution_count": 13,
     "metadata": {},
     "output_type": "execute_result"
    }
   ],
   "source": [
    "arkansas_news_df['not_available'].value_counts(normalize=True)"
   ]
  },
  {
   "cell_type": "markdown",
   "metadata": {},
   "source": [
    "### California"
   ]
  },
  {
   "cell_type": "code",
   "execution_count": 45,
   "metadata": {},
   "outputs": [
    {
     "name": "stdout",
     "output_type": "stream",
     "text": [
      "Number of articles to be processed:  17146\n",
      "Currently processing article number:  0\n",
      "Currently processing article number:  100\n",
      "Currently processing article number:  200\n",
      "Currently processing article number:  300\n",
      "Currently processing article number:  400\n",
      "Currently processing article number:  500\n",
      "Currently processing article number:  600\n",
      "Currently processing article number:  700\n",
      "Currently processing article number:  800\n",
      "Currently processing article number:  900\n",
      "Currently processing article number:  1000\n",
      "Currently processing article number:  1100\n",
      "Currently processing article number:  1200\n",
      "Currently processing article number:  1300\n",
      "Currently processing article number:  1400\n",
      "Currently processing article number:  1500\n",
      "Currently processing article number:  1600\n",
      "Currently processing article number:  1700\n",
      "Currently processing article number:  1800\n",
      "Currently processing article number:  1900\n",
      "Currently processing article number:  2000\n",
      "Currently processing article number:  2100\n",
      "Currently processing article number:  2200\n",
      "Currently processing article number:  2300\n",
      "Currently processing article number:  2400\n",
      "Currently processing article number:  2500\n",
      "Currently processing article number:  2600\n",
      "Currently processing article number:  2700\n",
      "Currently processing article number:  2800\n",
      "Currently processing article number:  2900\n",
      "Currently processing article number:  3000\n",
      "Currently processing article number:  3100\n",
      "Currently processing article number:  3200\n",
      "Currently processing article number:  3300\n",
      "Currently processing article number:  3400\n",
      "Currently processing article number:  3500\n",
      "Currently processing article number:  3600\n",
      "Currently processing article number:  3700\n",
      "Currently processing article number:  3800\n",
      "Currently processing article number:  3900\n",
      "Currently processing article number:  4000\n",
      "Currently processing article number:  4100\n",
      "Currently processing article number:  4200\n",
      "Currently processing article number:  4300\n",
      "Currently processing article number:  4400\n",
      "Currently processing article number:  4500\n",
      "Currently processing article number:  4600\n",
      "Currently processing article number:  4700\n",
      "Currently processing article number:  4800\n",
      "Currently processing article number:  4900\n",
      "Currently processing article number:  5000\n",
      "Currently processing article number:  5100\n",
      "Currently processing article number:  5200\n",
      "Currently processing article number:  5300\n",
      "Currently processing article number:  5400\n",
      "Currently processing article number:  5500\n",
      "Currently processing article number:  5600\n",
      "Currently processing article number:  5700\n",
      "Currently processing article number:  5800\n",
      "Currently processing article number:  5900\n",
      "Currently processing article number:  6000\n",
      "Currently processing article number:  6100\n",
      "Currently processing article number:  6200\n",
      "Currently processing article number:  6300\n",
      "Currently processing article number:  6400\n",
      "Currently processing article number:  6500\n",
      "Currently processing article number:  6600\n",
      "Currently processing article number:  6700\n",
      "Currently processing article number:  6800\n",
      "Currently processing article number:  6900\n",
      "Currently processing article number:  7000\n",
      "Currently processing article number:  7100\n",
      "Currently processing article number:  7200\n",
      "Currently processing article number:  7300\n",
      "Currently processing article number:  7400\n",
      "Currently processing article number:  7500\n",
      "Currently processing article number:  7600\n",
      "Currently processing article number:  7700\n",
      "Currently processing article number:  7800\n",
      "Currently processing article number:  7900\n",
      "Currently processing article number:  8000\n",
      "Currently processing article number:  8100\n",
      "Currently processing article number:  8200\n",
      "Currently processing article number:  8300\n",
      "Currently processing article number:  8400\n",
      "Currently processing article number:  8500\n",
      "Currently processing article number:  8600\n",
      "Currently processing article number:  8700\n",
      "Currently processing article number:  8800\n",
      "Currently processing article number:  8900\n",
      "Currently processing article number:  9000\n",
      "Currently processing article number:  9100\n",
      "Currently processing article number:  9200\n",
      "Currently processing article number:  9300\n",
      "Currently processing article number:  9400\n",
      "Currently processing article number:  9500\n",
      "Currently processing article number:  9600\n",
      "Currently processing article number:  9700\n",
      "Currently processing article number:  9800\n",
      "Currently processing article number:  9900\n",
      "Currently processing article number:  10000\n",
      "Currently processing article number:  10100\n",
      "Currently processing article number:  10200\n",
      "Currently processing article number:  10300\n",
      "Currently processing article number:  10400\n",
      "Currently processing article number:  10500\n",
      "Currently processing article number:  10600\n",
      "Currently processing article number:  10700\n",
      "Currently processing article number:  10800\n",
      "Currently processing article number:  10900\n",
      "Currently processing article number:  11000\n",
      "Currently processing article number:  11100\n",
      "Currently processing article number:  11200\n"
     ]
    },
    {
     "name": "stderr",
     "output_type": "stream",
     "text": [
      "C:\\Users\\Marie CHARPIGNON\\Anaconda3\\lib\\site-packages\\dateutil\\parser\\_parser.py:1206: UnknownTimezoneWarning: tzname PDT identified but not understood.  Pass `tzinfos` argument in order to correctly return a timezone-aware datetime.  In a future version, this will raise an exception.\n",
      "  category=UnknownTimezoneWarning)\n"
     ]
    },
    {
     "name": "stdout",
     "output_type": "stream",
     "text": [
      "Currently processing article number:  11300\n",
      "Currently processing article number:  11400\n",
      "Currently processing article number:  11500\n",
      "Currently processing article number:  11600\n",
      "Currently processing article number:  11700\n",
      "Currently processing article number:  11800\n",
      "Currently processing article number:  11900\n",
      "Currently processing article number:  12000\n",
      "Currently processing article number:  12100\n",
      "Currently processing article number:  12200\n",
      "Currently processing article number:  12300\n",
      "Currently processing article number:  12400\n",
      "Currently processing article number:  12500\n",
      "Currently processing article number:  12600\n",
      "Currently processing article number:  12700\n",
      "Currently processing article number:  12800\n",
      "Currently processing article number:  12900\n",
      "Currently processing article number:  13000\n",
      "Currently processing article number:  13100\n",
      "Currently processing article number:  13200\n",
      "Currently processing article number:  13300\n",
      "Currently processing article number:  13400\n",
      "Currently processing article number:  13500\n",
      "Currently processing article number:  13600\n",
      "Currently processing article number:  13700\n",
      "Currently processing article number:  13800\n",
      "Currently processing article number:  13900\n",
      "Currently processing article number:  14000\n",
      "Currently processing article number:  14100\n",
      "Currently processing article number:  14200\n",
      "Currently processing article number:  14300\n",
      "Currently processing article number:  14400\n",
      "Currently processing article number:  14500\n",
      "Currently processing article number:  14600\n",
      "Currently processing article number:  14700\n",
      "Currently processing article number:  14800\n",
      "Currently processing article number:  14900\n",
      "Currently processing article number:  15000\n",
      "Currently processing article number:  15100\n",
      "Currently processing article number:  15200\n",
      "Currently processing article number:  15300\n",
      "Currently processing article number:  15400\n",
      "Currently processing article number:  15500\n",
      "Currently processing article number:  15600\n",
      "Currently processing article number:  15700\n",
      "Currently processing article number:  15800\n",
      "Currently processing article number:  15900\n",
      "Currently processing article number:  16000\n",
      "Currently processing article number:  16100\n",
      "Currently processing article number:  16200\n",
      "Currently processing article number:  16300\n",
      "Currently processing article number:  16400\n",
      "Currently processing article number:  16500\n",
      "Currently processing article number:  16600\n",
      "Currently processing article number:  16700\n",
      "Currently processing article number:  16800\n",
      "Currently processing article number:  16900\n",
      "Currently processing article number:  17000\n",
      "Currently processing article number:  17100\n"
     ]
    }
   ],
   "source": [
    "print('Number of articles to be processed: ',california_news_size)\n",
    "\n",
    "for i in range(california_news_size):\n",
    "    # Where are we?\n",
    "    if i%100 == 0:\n",
    "        print('Currently processing article number: ', i)\n",
    "    # Load article    \n",
    "    url = california_news_df.loc[i,\"url\"] \n",
    "    article = Article(url.strip())\n",
    "    \n",
    "    # Extract the text\n",
    "    try:\n",
    "        article.download()\n",
    "        article.parse()\n",
    "        text = article.text\n",
    "        \n",
    "        california_news_df.loc[i,\"text\"] = text.replace('\\n\\n', ' ')  \n",
    "        california_news_df.loc[i,\"not_available\"] = 0\n",
    "    \n",
    "    # Otherwise, indicate as not available\n",
    "    except:\n",
    "        california_news_df.loc[i,\"text\"] = \"NA\"\n",
    "        california_news_df.loc[i,\"not_available\"] = 1\n",
    "        continue "
   ]
  },
  {
   "cell_type": "code",
   "execution_count": 46,
   "metadata": {},
   "outputs": [],
   "source": [
    "california_news_result_file = \"protests_project/california_news_results.csv\"\n",
    "california_news_df.to_csv(california_news_result_file, index=False, encoding='utf-8')"
   ]
  },
  {
   "cell_type": "code",
   "execution_count": 47,
   "metadata": {},
   "outputs": [
    {
     "data": {
      "text/plain": [
       "0.0    0.984719\n",
       "1.0    0.015281\n",
       "Name: not_available, dtype: float64"
      ]
     },
     "execution_count": 47,
     "metadata": {},
     "output_type": "execute_result"
    }
   ],
   "source": [
    "california_news_df['not_available'].value_counts(normalize=True)"
   ]
  },
  {
   "cell_type": "markdown",
   "metadata": {},
   "source": [
    "### Colorado"
   ]
  },
  {
   "cell_type": "code",
   "execution_count": 39,
   "metadata": {},
   "outputs": [
    {
     "name": "stdout",
     "output_type": "stream",
     "text": [
      "Number of articles to be processed:  1525\n",
      "Currently processing article number:  0\n",
      "Currently processing article number:  100\n",
      "Currently processing article number:  200\n",
      "Currently processing article number:  300\n",
      "Currently processing article number:  400\n",
      "Currently processing article number:  500\n",
      "Currently processing article number:  600\n",
      "Currently processing article number:  700\n",
      "Currently processing article number:  800\n",
      "Currently processing article number:  900\n",
      "Currently processing article number:  1000\n",
      "Currently processing article number:  1100\n",
      "Currently processing article number:  1200\n",
      "Currently processing article number:  1300\n",
      "Currently processing article number:  1400\n",
      "Currently processing article number:  1500\n"
     ]
    }
   ],
   "source": [
    "print('Number of articles to be processed: ', colorado_news_size)\n",
    "\n",
    "for i in range(colorado_news_size):\n",
    "    # Where are we?\n",
    "    if i%100 == 0:\n",
    "        print('Currently processing article number: ', i)\n",
    "    # Load article    \n",
    "    url = colorado_news_df.loc[i,\"url\"] \n",
    "    article = Article(url.strip())\n",
    "    \n",
    "    # Extract the text\n",
    "    try:\n",
    "        article.download()\n",
    "        article.parse()\n",
    "        text = article.text\n",
    "        \n",
    "        colorado_news_df.loc[i,\"text\"] = text.replace('\\n\\n', ' ')  \n",
    "        colorado_news_df.loc[i,\"not_available\"] = 0\n",
    "    \n",
    "    # Otherwise, indicate as not available\n",
    "    except:\n",
    "        colorado_news_df.loc[i,\"text\"] = \"NA\"\n",
    "        colorado_news_df.loc[i,\"not_available\"] = 1\n",
    "        continue "
   ]
  },
  {
   "cell_type": "code",
   "execution_count": 40,
   "metadata": {},
   "outputs": [],
   "source": [
    "colorado_news_result_file = \"protests_project/colorado_news_results.csv\"\n",
    "colorado_news_df.to_csv(colorado_news_result_file, index=False, encoding='utf-8')"
   ]
  },
  {
   "cell_type": "code",
   "execution_count": 41,
   "metadata": {},
   "outputs": [
    {
     "data": {
      "text/plain": [
       "0.0    1449\n",
       "1.0      76\n",
       "Name: not_available, dtype: int64"
      ]
     },
     "execution_count": 41,
     "metadata": {},
     "output_type": "execute_result"
    }
   ],
   "source": [
    "colorado_news_df['not_available'].value_counts()"
   ]
  },
  {
   "cell_type": "code",
   "execution_count": 42,
   "metadata": {},
   "outputs": [
    {
     "data": {
      "text/plain": [
       "0.0    0.950164\n",
       "1.0    0.049836\n",
       "Name: not_available, dtype: float64"
      ]
     },
     "execution_count": 42,
     "metadata": {},
     "output_type": "execute_result"
    }
   ],
   "source": [
    "colorado_news_df['not_available'].value_counts(normalize=True)"
   ]
  },
  {
   "cell_type": "markdown",
   "metadata": {},
   "source": [
    "### Connecticut"
   ]
  },
  {
   "cell_type": "code",
   "execution_count": 29,
   "metadata": {},
   "outputs": [
    {
     "name": "stdout",
     "output_type": "stream",
     "text": [
      "Number of articles to be processed:  771\n",
      "Currently processing article number:  0\n",
      "Currently processing article number:  100\n",
      "Currently processing article number:  200\n",
      "Currently processing article number:  300\n",
      "Currently processing article number:  400\n",
      "Currently processing article number:  500\n",
      "Currently processing article number:  600\n",
      "Currently processing article number:  700\n"
     ]
    }
   ],
   "source": [
    "print('Number of articles to be processed: ', connecticut_news_size)\n",
    "\n",
    "for i in range(connecticut_news_size):\n",
    "    # Where are we?\n",
    "    if i%100 == 0:\n",
    "        print('Currently processing article number: ', i)\n",
    "    # Load article    \n",
    "    url = connecticut_news_df.loc[i,\"url\"] \n",
    "    article = Article(url.strip())\n",
    "    \n",
    "    # Extract the text\n",
    "    try:\n",
    "        article.download()\n",
    "        article.parse()\n",
    "        text = article.text\n",
    "        \n",
    "        connecticut_news_df.loc[i,\"text\"] = text.replace('\\n\\n', ' ')  \n",
    "        connecticut_news_df.loc[i,\"not_available\"] = 0\n",
    "    \n",
    "    # Otherwise, indicate as not available\n",
    "    except:\n",
    "        connecticut_news_df.loc[i,\"text\"] = \"NA\"\n",
    "        connecticut_news_df.loc[i,\"not_available\"] = 1\n",
    "        continue "
   ]
  },
  {
   "cell_type": "code",
   "execution_count": 30,
   "metadata": {},
   "outputs": [],
   "source": [
    "connecticut_news_result_file = \"protests_project/connecticut_news_results.csv\"\n",
    "connecticut_news_df.to_csv(connecticut_news_result_file, index=False, encoding='utf-8')"
   ]
  },
  {
   "cell_type": "code",
   "execution_count": 31,
   "metadata": {},
   "outputs": [
    {
     "data": {
      "text/plain": [
       "0.0    719\n",
       "1.0     52\n",
       "Name: not_available, dtype: int64"
      ]
     },
     "execution_count": 31,
     "metadata": {},
     "output_type": "execute_result"
    }
   ],
   "source": [
    "connecticut_news_df['not_available'].value_counts()"
   ]
  },
  {
   "cell_type": "code",
   "execution_count": 32,
   "metadata": {},
   "outputs": [
    {
     "data": {
      "text/plain": [
       "0.0    0.932555\n",
       "1.0    0.067445\n",
       "Name: not_available, dtype: float64"
      ]
     },
     "execution_count": 32,
     "metadata": {},
     "output_type": "execute_result"
    }
   ],
   "source": [
    "connecticut_news_df['not_available'].value_counts(normalize=True)"
   ]
  },
  {
   "cell_type": "markdown",
   "metadata": {},
   "source": [
    "### Delaware"
   ]
  },
  {
   "cell_type": "code",
   "execution_count": 33,
   "metadata": {},
   "outputs": [
    {
     "name": "stdout",
     "output_type": "stream",
     "text": [
      "Number of articles to be processed:  222\n",
      "Currently processing article number:  0\n",
      "Currently processing article number:  100\n",
      "Currently processing article number:  200\n"
     ]
    }
   ],
   "source": [
    "print('Number of articles to be processed: ', delaware_news_size)\n",
    "\n",
    "for i in range(delaware_news_size):\n",
    "    # Where are we?\n",
    "    if i%100 == 0:\n",
    "        print('Currently processing article number: ', i)\n",
    "    # Load article    \n",
    "    url = delaware_news_df.loc[i,\"url\"] \n",
    "    article = Article(url.strip())\n",
    "    \n",
    "    # Extract the text\n",
    "    try:\n",
    "        article.download()\n",
    "        article.parse()\n",
    "        text = article.text\n",
    "        \n",
    "        delaware_news_df.loc[i,\"text\"] = text.replace('\\n\\n', ' ')  \n",
    "        delaware_news_df.loc[i,\"not_available\"] = 0\n",
    "    \n",
    "    # Otherwise, indicate as not available\n",
    "    except:\n",
    "        delaware_news_df.loc[i,\"text\"] = \"NA\"\n",
    "        delaware_news_df.loc[i,\"not_available\"] = 1\n",
    "        continue "
   ]
  },
  {
   "cell_type": "code",
   "execution_count": 34,
   "metadata": {},
   "outputs": [],
   "source": [
    "delaware_news_result_file = \"protests_project/delaware_news_results.csv\"\n",
    "delaware_news_df.to_csv(delaware_news_result_file, index=False, encoding='utf-8')"
   ]
  },
  {
   "cell_type": "code",
   "execution_count": 35,
   "metadata": {},
   "outputs": [
    {
     "data": {
      "text/plain": [
       "0.0    171\n",
       "1.0     51\n",
       "Name: not_available, dtype: int64"
      ]
     },
     "execution_count": 35,
     "metadata": {},
     "output_type": "execute_result"
    }
   ],
   "source": [
    "delaware_news_df['not_available'].value_counts()"
   ]
  },
  {
   "cell_type": "code",
   "execution_count": 36,
   "metadata": {},
   "outputs": [
    {
     "data": {
      "text/plain": [
       "0.0    0.77027\n",
       "1.0    0.22973\n",
       "Name: not_available, dtype: float64"
      ]
     },
     "execution_count": 36,
     "metadata": {},
     "output_type": "execute_result"
    }
   ],
   "source": [
    "delaware_news_df['not_available'].value_counts(normalize=True)"
   ]
  },
  {
   "cell_type": "markdown",
   "metadata": {},
   "source": [
    "### Georgia"
   ]
  },
  {
   "cell_type": "code",
   "execution_count": 39,
   "metadata": {},
   "outputs": [
    {
     "name": "stdout",
     "output_type": "stream",
     "text": [
      "Number of articles to be processed:  1819\n",
      "Currently processing article number:  0\n",
      "Currently processing article number:  100\n",
      "Currently processing article number:  200\n",
      "Currently processing article number:  300\n",
      "Currently processing article number:  400\n",
      "Currently processing article number:  500\n",
      "Currently processing article number:  600\n",
      "Currently processing article number:  700\n",
      "Currently processing article number:  800\n",
      "Currently processing article number:  900\n",
      "Currently processing article number:  1000\n",
      "Currently processing article number:  1100\n",
      "Currently processing article number:  1200\n",
      "Currently processing article number:  1300\n",
      "Currently processing article number:  1400\n",
      "Currently processing article number:  1500\n",
      "Currently processing article number:  1600\n",
      "Currently processing article number:  1700\n",
      "Currently processing article number:  1800\n"
     ]
    }
   ],
   "source": [
    "print('Number of articles to be processed: ', georgia_news_size)\n",
    "\n",
    "for i in range(georgia_news_size):\n",
    "    # Where are we?\n",
    "    if i%100 == 0:\n",
    "        print('Currently processing article number: ', i)\n",
    "    # Load article    \n",
    "    url = georgia_news_df.loc[i,\"url\"] \n",
    "    article = Article(url.strip())\n",
    "    \n",
    "    # Extract the text\n",
    "    try:\n",
    "        article.download()\n",
    "        article.parse()\n",
    "        text = article.text\n",
    "        \n",
    "        georgia_news_df.loc[i,\"text\"] = text.replace('\\n\\n', ' ')  \n",
    "        georgia_news_df.loc[i,\"not_available\"] = 0\n",
    "    \n",
    "    # Otherwise, indicate as not available\n",
    "    except:\n",
    "        georgia_news_df.loc[i,\"text\"] = \"NA\"\n",
    "        georgia_news_df.loc[i,\"not_available\"] = 1\n",
    "        continue "
   ]
  },
  {
   "cell_type": "code",
   "execution_count": 40,
   "metadata": {},
   "outputs": [],
   "source": [
    "georgia_news_result_file = \"georgia_news_results.csv\"\n",
    "georgia_news_df.to_csv(georgia_news_result_file, index=False, encoding='utf-8')"
   ]
  },
  {
   "cell_type": "code",
   "execution_count": 41,
   "metadata": {},
   "outputs": [
    {
     "data": {
      "text/plain": [
       "0.0    1510\n",
       "1.0     309\n",
       "Name: not_available, dtype: int64"
      ]
     },
     "execution_count": 41,
     "metadata": {},
     "output_type": "execute_result"
    }
   ],
   "source": [
    "georgia_news_df['not_available'].value_counts()"
   ]
  },
  {
   "cell_type": "code",
   "execution_count": 42,
   "metadata": {},
   "outputs": [
    {
     "data": {
      "text/plain": [
       "0.0    0.830126\n",
       "1.0    0.169874\n",
       "Name: not_available, dtype: float64"
      ]
     },
     "execution_count": 42,
     "metadata": {},
     "output_type": "execute_result"
    }
   ],
   "source": [
    "georgia_news_df['not_available'].value_counts(normalize=True)"
   ]
  },
  {
   "cell_type": "markdown",
   "metadata": {},
   "source": [
    "### Hawaii"
   ]
  },
  {
   "cell_type": "code",
   "execution_count": 43,
   "metadata": {},
   "outputs": [
    {
     "name": "stdout",
     "output_type": "stream",
     "text": [
      "Number of articles to be processed:  182\n",
      "Currently processing article number:  0\n",
      "Currently processing article number:  100\n"
     ]
    }
   ],
   "source": [
    "print('Number of articles to be processed: ', hawaii_news_size)\n",
    "\n",
    "for i in range(hawaii_news_size):\n",
    "    # Where are we?\n",
    "    if i%100 == 0:\n",
    "        print('Currently processing article number: ', i)\n",
    "    # Load article    \n",
    "    url = hawaii_news_df.loc[i,\"url\"] \n",
    "    article = Article(url.strip())\n",
    "    \n",
    "    # Extract the text\n",
    "    try:\n",
    "        article.download()\n",
    "        article.parse()\n",
    "        text = article.text\n",
    "        \n",
    "        hawaii_news_df.loc[i,\"text\"] = text.replace('\\n\\n', ' ')  \n",
    "        hawaii_news_df.loc[i,\"not_available\"] = 0\n",
    "    \n",
    "    # Otherwise, indicate as not available\n",
    "    except:\n",
    "        hawaii_news_df.loc[i,\"text\"] = \"NA\"\n",
    "        hawaii_news_df.loc[i,\"not_available\"] = 1\n",
    "        continue "
   ]
  },
  {
   "cell_type": "code",
   "execution_count": 44,
   "metadata": {},
   "outputs": [],
   "source": [
    "hawaii_news_result_file = \"hawaii_news_results.csv\"\n",
    "hawaii_news_df.to_csv(hawaii_news_result_file, index=False, encoding='utf-8')"
   ]
  },
  {
   "cell_type": "code",
   "execution_count": 45,
   "metadata": {},
   "outputs": [
    {
     "data": {
      "text/plain": [
       "0.0    165\n",
       "1.0     17\n",
       "Name: not_available, dtype: int64"
      ]
     },
     "execution_count": 45,
     "metadata": {},
     "output_type": "execute_result"
    }
   ],
   "source": [
    "hawaii_news_df['not_available'].value_counts()"
   ]
  },
  {
   "cell_type": "code",
   "execution_count": 46,
   "metadata": {},
   "outputs": [
    {
     "data": {
      "text/plain": [
       "0.0    0.906593\n",
       "1.0    0.093407\n",
       "Name: not_available, dtype: float64"
      ]
     },
     "execution_count": 46,
     "metadata": {},
     "output_type": "execute_result"
    }
   ],
   "source": [
    "hawaii_news_df['not_available'].value_counts(normalize=True)"
   ]
  },
  {
   "cell_type": "markdown",
   "metadata": {},
   "source": [
    "### Idaho"
   ]
  },
  {
   "cell_type": "code",
   "execution_count": 66,
   "metadata": {},
   "outputs": [
    {
     "name": "stdout",
     "output_type": "stream",
     "text": [
      "Number of articles to be processed:  4380\n",
      "Currently processing article number:  0\n",
      "Currently processing article number:  100\n",
      "Currently processing article number:  200\n",
      "Currently processing article number:  300\n",
      "Currently processing article number:  400\n",
      "Currently processing article number:  500\n",
      "Currently processing article number:  600\n",
      "Currently processing article number:  700\n",
      "Currently processing article number:  800\n",
      "Currently processing article number:  900\n",
      "Currently processing article number:  1000\n",
      "Currently processing article number:  1100\n",
      "Currently processing article number:  1200\n",
      "Currently processing article number:  1300\n",
      "Currently processing article number:  1400\n",
      "Currently processing article number:  1500\n",
      "Currently processing article number:  1600\n",
      "Currently processing article number:  1700\n",
      "Currently processing article number:  1800\n",
      "Currently processing article number:  1900\n",
      "Currently processing article number:  2000\n",
      "Currently processing article number:  2100\n",
      "Currently processing article number:  2200\n",
      "Currently processing article number:  2300\n",
      "Currently processing article number:  2400\n",
      "Currently processing article number:  2500\n",
      "Currently processing article number:  2600\n",
      "Currently processing article number:  2700\n",
      "Currently processing article number:  2800\n",
      "Currently processing article number:  2900\n",
      "Currently processing article number:  3000\n",
      "Currently processing article number:  3100\n",
      "Currently processing article number:  3200\n",
      "Currently processing article number:  3300\n",
      "Currently processing article number:  3400\n",
      "Currently processing article number:  3500\n",
      "Currently processing article number:  3600\n",
      "Currently processing article number:  3700\n",
      "Currently processing article number:  3800\n",
      "Currently processing article number:  3900\n",
      "Currently processing article number:  4000\n",
      "Currently processing article number:  4100\n",
      "Currently processing article number:  4200\n",
      "Currently processing article number:  4300\n"
     ]
    }
   ],
   "source": [
    "print('Number of articles to be processed: ', idaho_news_size)\n",
    "\n",
    "for i in range(idaho_news_size):\n",
    "    # Where are we?\n",
    "    if i%100 == 0:\n",
    "        print('Currently processing article number: ', i)\n",
    "    # Load article    \n",
    "    url = idaho_news_df.loc[i,\"url\"] \n",
    "    article = Article(url.strip())\n",
    "    \n",
    "    # Extract the text\n",
    "    try:\n",
    "        article.download()\n",
    "        article.parse()\n",
    "        text = article.text\n",
    "        \n",
    "        idaho_news_df.loc[i,\"text\"] = text.replace('\\n\\n', ' ')  \n",
    "        idaho_news_df.loc[i,\"not_available\"] = 0\n",
    "    \n",
    "    # Otherwise, indicate as not available\n",
    "    except:\n",
    "        idaho_news_df.loc[i,\"text\"] = \"NA\"\n",
    "        idaho_news_df.loc[i,\"not_available\"] = 1\n",
    "        continue "
   ]
  },
  {
   "cell_type": "code",
   "execution_count": 67,
   "metadata": {},
   "outputs": [],
   "source": [
    "idaho_news_result_file = \"idaho_news_results.csv\"\n",
    "idaho_news_df.to_csv(idaho_news_result_file, index=False, encoding='utf-8')"
   ]
  },
  {
   "cell_type": "code",
   "execution_count": 68,
   "metadata": {},
   "outputs": [
    {
     "data": {
      "text/plain": [
       "0.0    4338\n",
       "1.0      42\n",
       "Name: not_available, dtype: int64"
      ]
     },
     "execution_count": 68,
     "metadata": {},
     "output_type": "execute_result"
    }
   ],
   "source": [
    "idaho_news_df['not_available'].value_counts()"
   ]
  },
  {
   "cell_type": "code",
   "execution_count": 69,
   "metadata": {},
   "outputs": [
    {
     "data": {
      "text/plain": [
       "0.0    0.990411\n",
       "1.0    0.009589\n",
       "Name: not_available, dtype: float64"
      ]
     },
     "execution_count": 69,
     "metadata": {},
     "output_type": "execute_result"
    }
   ],
   "source": [
    "idaho_news_df['not_available'].value_counts(normalize=True)"
   ]
  },
  {
   "cell_type": "markdown",
   "metadata": {},
   "source": [
    "### Illinois"
   ]
  },
  {
   "cell_type": "code",
   "execution_count": 70,
   "metadata": {},
   "outputs": [
    {
     "name": "stdout",
     "output_type": "stream",
     "text": [
      "Number of articles to be processed:  254\n",
      "Currently processing article number:  0\n",
      "Currently processing article number:  100\n",
      "Currently processing article number:  200\n"
     ]
    }
   ],
   "source": [
    "print('Number of articles to be processed: ', illinois_news_size)\n",
    "\n",
    "for i in range(illinois_news_size):\n",
    "    # Where are we?\n",
    "    if i%100 == 0:\n",
    "        print('Currently processing article number: ', i)\n",
    "    # Load article    \n",
    "    url = illinois_news_df.loc[i,\"url\"] \n",
    "    article = Article(url.strip())\n",
    "    \n",
    "    # Extract the text\n",
    "    try:\n",
    "        article.download()\n",
    "        article.parse()\n",
    "        text = article.text\n",
    "        \n",
    "        illinois_news_df.loc[i,\"text\"] = text.replace('\\n\\n', ' ')  \n",
    "        illinois_news_df.loc[i,\"not_available\"] = 0\n",
    "    \n",
    "    # Otherwise, indicate as not available\n",
    "    except:\n",
    "        illinois_news_df.loc[i,\"text\"] = \"NA\"\n",
    "        illinois_news_df.loc[i,\"not_available\"] = 1\n",
    "        continue "
   ]
  },
  {
   "cell_type": "code",
   "execution_count": 71,
   "metadata": {},
   "outputs": [],
   "source": [
    "illinois_news_result_file = \"illinois_news_results.csv\"\n",
    "illinois_news_df.to_csv(illinois_news_result_file, index=False, encoding='utf-8')"
   ]
  },
  {
   "cell_type": "code",
   "execution_count": 72,
   "metadata": {},
   "outputs": [
    {
     "data": {
      "text/plain": [
       "1.0    151\n",
       "0.0    103\n",
       "Name: not_available, dtype: int64"
      ]
     },
     "execution_count": 72,
     "metadata": {},
     "output_type": "execute_result"
    }
   ],
   "source": [
    "illinois_news_df['not_available'].value_counts()"
   ]
  },
  {
   "cell_type": "code",
   "execution_count": 73,
   "metadata": {},
   "outputs": [
    {
     "data": {
      "text/plain": [
       "1.0    0.594488\n",
       "0.0    0.405512\n",
       "Name: not_available, dtype: float64"
      ]
     },
     "execution_count": 73,
     "metadata": {},
     "output_type": "execute_result"
    }
   ],
   "source": [
    "illinois_news_df['not_available'].value_counts(normalize=True)"
   ]
  },
  {
   "cell_type": "markdown",
   "metadata": {},
   "source": [
    "### Indiana"
   ]
  },
  {
   "cell_type": "code",
   "execution_count": 74,
   "metadata": {},
   "outputs": [
    {
     "name": "stdout",
     "output_type": "stream",
     "text": [
      "Number of articles to be processed:  1589\n",
      "Currently processing article number:  0\n",
      "Currently processing article number:  100\n",
      "Currently processing article number:  200\n",
      "Currently processing article number:  300\n",
      "Currently processing article number:  400\n",
      "Currently processing article number:  500\n",
      "Currently processing article number:  600\n",
      "Currently processing article number:  700\n",
      "Currently processing article number:  800\n",
      "Currently processing article number:  900\n",
      "Currently processing article number:  1000\n",
      "Currently processing article number:  1100\n",
      "Currently processing article number:  1200\n",
      "Currently processing article number:  1300\n",
      "Currently processing article number:  1400\n",
      "Currently processing article number:  1500\n"
     ]
    }
   ],
   "source": [
    "print('Number of articles to be processed: ', indiana_news_size)\n",
    "\n",
    "for i in range(indiana_news_size):\n",
    "    # Where are we?\n",
    "    if i%100 == 0:\n",
    "        print('Currently processing article number: ', i)\n",
    "    # Load article    \n",
    "    url = indiana_news_df.loc[i,\"url\"] \n",
    "    article = Article(url.strip())\n",
    "    \n",
    "    # Extract the text\n",
    "    try:\n",
    "        article.download()\n",
    "        article.parse()\n",
    "        text = article.text\n",
    "        \n",
    "        indiana_news_df.loc[i,\"text\"] = text.replace('\\n\\n', ' ')  \n",
    "        indiana_news_df.loc[i,\"not_available\"] = 0\n",
    "    \n",
    "    # Otherwise, indicate as not available\n",
    "    except:\n",
    "        indiana_news_df.loc[i,\"text\"] = \"NA\"\n",
    "        indiana_news_df.loc[i,\"not_available\"] = 1\n",
    "        continue "
   ]
  },
  {
   "cell_type": "code",
   "execution_count": 75,
   "metadata": {},
   "outputs": [],
   "source": [
    "indiana_news_result_file = \"indiana_news_results.csv\"\n",
    "indiana_news_df.to_csv(indiana_news_result_file, index=False, encoding='utf-8')"
   ]
  },
  {
   "cell_type": "code",
   "execution_count": 76,
   "metadata": {},
   "outputs": [
    {
     "data": {
      "text/plain": [
       "1.0    832\n",
       "0.0    757\n",
       "Name: not_available, dtype: int64"
      ]
     },
     "execution_count": 76,
     "metadata": {},
     "output_type": "execute_result"
    }
   ],
   "source": [
    "indiana_news_df['not_available'].value_counts()"
   ]
  },
  {
   "cell_type": "code",
   "execution_count": 77,
   "metadata": {},
   "outputs": [
    {
     "data": {
      "text/plain": [
       "1.0    0.5236\n",
       "0.0    0.4764\n",
       "Name: not_available, dtype: float64"
      ]
     },
     "execution_count": 77,
     "metadata": {},
     "output_type": "execute_result"
    }
   ],
   "source": [
    "indiana_news_df['not_available'].value_counts(normalize=True)"
   ]
  },
  {
   "cell_type": "markdown",
   "metadata": {},
   "source": [
    "### Iowa"
   ]
  },
  {
   "cell_type": "code",
   "execution_count": 78,
   "metadata": {},
   "outputs": [
    {
     "name": "stdout",
     "output_type": "stream",
     "text": [
      "Number of articles to be processed:  1047\n",
      "Currently processing article number:  0\n",
      "Currently processing article number:  100\n",
      "Currently processing article number:  200\n",
      "Currently processing article number:  300\n",
      "Currently processing article number:  400\n",
      "Currently processing article number:  500\n",
      "Currently processing article number:  600\n",
      "Currently processing article number:  700\n",
      "Currently processing article number:  800\n",
      "Currently processing article number:  900\n",
      "Currently processing article number:  1000\n"
     ]
    }
   ],
   "source": [
    "print('Number of articles to be processed: ', iowa_news_size)\n",
    "\n",
    "for i in range(iowa_news_size):\n",
    "    # Where are we?\n",
    "    if i%100 == 0:\n",
    "        print('Currently processing article number: ', i)\n",
    "    # Load article    \n",
    "    url = iowa_news_df.loc[i,\"url\"] \n",
    "    article = Article(url.strip())\n",
    "    \n",
    "    # Extract the text\n",
    "    try:\n",
    "        article.download()\n",
    "        article.parse()\n",
    "        text = article.text\n",
    "        \n",
    "        iowa_news_df.loc[i,\"text\"] = text.replace('\\n\\n', ' ')  \n",
    "        iowa_news_df.loc[i,\"not_available\"] = 0\n",
    "    \n",
    "    # Otherwise, indicate as not available\n",
    "    except:\n",
    "        iowa_news_df.loc[i,\"text\"] = \"NA\"\n",
    "        iowa_news_df.loc[i,\"not_available\"] = 1\n",
    "        continue "
   ]
  },
  {
   "cell_type": "code",
   "execution_count": 88,
   "metadata": {},
   "outputs": [],
   "source": [
    "iowa_news_result_file = \"iowa_news_results.csv\"\n",
    "iowa_news_df.to_csv(iowa_news_result_file, index=False, encoding='utf-8')"
   ]
  },
  {
   "cell_type": "code",
   "execution_count": 80,
   "metadata": {},
   "outputs": [
    {
     "data": {
      "text/plain": [
       "0.0    1022\n",
       "1.0      25\n",
       "Name: not_available, dtype: int64"
      ]
     },
     "execution_count": 80,
     "metadata": {},
     "output_type": "execute_result"
    }
   ],
   "source": [
    "iowa_news_df['not_available'].value_counts()"
   ]
  },
  {
   "cell_type": "code",
   "execution_count": 81,
   "metadata": {},
   "outputs": [
    {
     "data": {
      "text/plain": [
       "0.0    0.976122\n",
       "1.0    0.023878\n",
       "Name: not_available, dtype: float64"
      ]
     },
     "execution_count": 81,
     "metadata": {},
     "output_type": "execute_result"
    }
   ],
   "source": [
    "iowa_news_df['not_available'].value_counts(normalize=True)"
   ]
  },
  {
   "cell_type": "markdown",
   "metadata": {},
   "source": [
    "### Kansas"
   ]
  },
  {
   "cell_type": "code",
   "execution_count": 82,
   "metadata": {},
   "outputs": [
    {
     "name": "stdout",
     "output_type": "stream",
     "text": [
      "Number of articles to be processed:  1598\n",
      "Currently processing article number:  0\n",
      "Currently processing article number:  100\n",
      "Currently processing article number:  200\n",
      "Currently processing article number:  300\n",
      "Currently processing article number:  400\n",
      "Currently processing article number:  500\n",
      "Currently processing article number:  600\n",
      "Currently processing article number:  700\n",
      "Currently processing article number:  800\n",
      "Currently processing article number:  900\n",
      "Currently processing article number:  1000\n",
      "Currently processing article number:  1100\n",
      "Currently processing article number:  1200\n",
      "Currently processing article number:  1300\n",
      "Currently processing article number:  1400\n",
      "Currently processing article number:  1500\n"
     ]
    }
   ],
   "source": [
    "print('Number of articles to be processed: ', kansas_news_size)\n",
    "\n",
    "for i in range(kansas_news_size):\n",
    "    # Where are we?\n",
    "    if i%100 == 0:\n",
    "        print('Currently processing article number: ', i)\n",
    "    # Load article    \n",
    "    url = kansas_news_df.loc[i,\"url\"] \n",
    "    article = Article(url.strip())\n",
    "    \n",
    "    # Extract the text\n",
    "    try:\n",
    "        article.download()\n",
    "        article.parse()\n",
    "        text = article.text\n",
    "        \n",
    "        kansas_news_df.loc[i,\"text\"] = text.replace('\\n\\n', ' ')  \n",
    "        kansas_news_df.loc[i,\"not_available\"] = 0\n",
    "    \n",
    "    # Otherwise, indicate as not available\n",
    "    except:\n",
    "        kansas_news_df.loc[i,\"text\"] = \"NA\"\n",
    "        kansas_news_df.loc[i,\"not_available\"] = 1\n",
    "        continue "
   ]
  },
  {
   "cell_type": "code",
   "execution_count": 87,
   "metadata": {},
   "outputs": [],
   "source": [
    "kansas_news_result_file = \"kansas_news_results.csv\"\n",
    "kansas_news_df.to_csv(kansas_news_result_file, index=False, encoding='utf-8')"
   ]
  },
  {
   "cell_type": "code",
   "execution_count": 84,
   "metadata": {},
   "outputs": [
    {
     "data": {
      "text/plain": [
       "0.0    1473\n",
       "1.0     125\n",
       "Name: not_available, dtype: int64"
      ]
     },
     "execution_count": 84,
     "metadata": {},
     "output_type": "execute_result"
    }
   ],
   "source": [
    "kansas_news_df['not_available'].value_counts()"
   ]
  },
  {
   "cell_type": "code",
   "execution_count": 85,
   "metadata": {},
   "outputs": [
    {
     "data": {
      "text/plain": [
       "0.0    0.921777\n",
       "1.0    0.078223\n",
       "Name: not_available, dtype: float64"
      ]
     },
     "execution_count": 85,
     "metadata": {},
     "output_type": "execute_result"
    }
   ],
   "source": [
    "kansas_news_df['not_available'].value_counts(normalize=True)"
   ]
  },
  {
   "cell_type": "markdown",
   "metadata": {},
   "source": [
    "### Kentucky"
   ]
  },
  {
   "cell_type": "code",
   "execution_count": 86,
   "metadata": {},
   "outputs": [
    {
     "name": "stdout",
     "output_type": "stream",
     "text": [
      "Number of articles to be processed:  490\n",
      "Currently processing article number:  0\n",
      "Currently processing article number:  100\n",
      "Currently processing article number:  200\n",
      "Currently processing article number:  300\n",
      "Currently processing article number:  400\n"
     ]
    }
   ],
   "source": [
    "print('Number of articles to be processed: ', kentucky_news_size)\n",
    "\n",
    "for i in range(kentucky_news_size):\n",
    "    # Where are we?\n",
    "    if i%100 == 0:\n",
    "        print('Currently processing article number: ', i)\n",
    "    # Load article    \n",
    "    url = kentucky_news_df.loc[i,\"url\"] \n",
    "    article = Article(url.strip())\n",
    "    \n",
    "    # Extract the text\n",
    "    try:\n",
    "        article.download()\n",
    "        article.parse()\n",
    "        text = article.text\n",
    "        \n",
    "        kentucky_news_df.loc[i,\"text\"] = text.replace('\\n\\n', ' ')  \n",
    "        kentucky_news_df.loc[i,\"not_available\"] = 0\n",
    "    \n",
    "    # Otherwise, indicate as not available\n",
    "    except:\n",
    "        kentucky_news_df.loc[i,\"text\"] = \"NA\"\n",
    "        kentucky_news_df.loc[i,\"not_available\"] = 1\n",
    "        continue "
   ]
  },
  {
   "cell_type": "code",
   "execution_count": 89,
   "metadata": {},
   "outputs": [],
   "source": [
    "kentucky_news_result_file = \"kentucky_news_results.csv\"\n",
    "kentucky_news_df.to_csv(kentucky_news_result_file, index=False, encoding='utf-8')"
   ]
  },
  {
   "cell_type": "code",
   "execution_count": 90,
   "metadata": {},
   "outputs": [
    {
     "data": {
      "text/plain": [
       "0.0    447\n",
       "1.0     43\n",
       "Name: not_available, dtype: int64"
      ]
     },
     "execution_count": 90,
     "metadata": {},
     "output_type": "execute_result"
    }
   ],
   "source": [
    "kentucky_news_df['not_available'].value_counts()"
   ]
  },
  {
   "cell_type": "code",
   "execution_count": 91,
   "metadata": {},
   "outputs": [
    {
     "data": {
      "text/plain": [
       "0.0    0.912245\n",
       "1.0    0.087755\n",
       "Name: not_available, dtype: float64"
      ]
     },
     "execution_count": 91,
     "metadata": {},
     "output_type": "execute_result"
    }
   ],
   "source": [
    "kentucky_news_df['not_available'].value_counts(normalize=True)"
   ]
  },
  {
   "cell_type": "markdown",
   "metadata": {},
   "source": [
    "### Louisiana"
   ]
  },
  {
   "cell_type": "code",
   "execution_count": 92,
   "metadata": {},
   "outputs": [
    {
     "name": "stdout",
     "output_type": "stream",
     "text": [
      "Number of articles to be processed:  753\n",
      "Currently processing article number:  0\n",
      "Currently processing article number:  100\n",
      "Currently processing article number:  200\n",
      "Currently processing article number:  300\n",
      "Currently processing article number:  400\n",
      "Currently processing article number:  500\n",
      "Currently processing article number:  600\n",
      "Currently processing article number:  700\n"
     ]
    }
   ],
   "source": [
    "print('Number of articles to be processed: ', louisiana_news_size)\n",
    "\n",
    "for i in range(louisiana_news_size):\n",
    "    # Where are we?\n",
    "    if i%100 == 0:\n",
    "        print('Currently processing article number: ', i)\n",
    "    # Load article    \n",
    "    url = louisiana_news_df.loc[i,\"url\"] \n",
    "    article = Article(url.strip())\n",
    "    \n",
    "    # Extract the text\n",
    "    try:\n",
    "        article.download()\n",
    "        article.parse()\n",
    "        text = article.text\n",
    "        \n",
    "        louisiana_news_df.loc[i,\"text\"] = text.replace('\\n\\n', ' ')  \n",
    "        louisiana_news_df.loc[i,\"not_available\"] = 0\n",
    "    \n",
    "    # Otherwise, indicate as not available\n",
    "    except:\n",
    "        louisiana_news_df.loc[i,\"text\"] = \"NA\"\n",
    "        louisiana_news_df.loc[i,\"not_available\"] = 1\n",
    "        continue "
   ]
  },
  {
   "cell_type": "code",
   "execution_count": 93,
   "metadata": {},
   "outputs": [],
   "source": [
    "louisiana_news_result_file = \"louisiana_news_results.csv\"\n",
    "louisiana_news_df.to_csv(louisiana_news_result_file, index=False, encoding='utf-8')"
   ]
  },
  {
   "cell_type": "code",
   "execution_count": 94,
   "metadata": {},
   "outputs": [
    {
     "data": {
      "text/plain": [
       "0.0    648\n",
       "1.0    105\n",
       "Name: not_available, dtype: int64"
      ]
     },
     "execution_count": 94,
     "metadata": {},
     "output_type": "execute_result"
    }
   ],
   "source": [
    "louisiana_news_df['not_available'].value_counts()"
   ]
  },
  {
   "cell_type": "code",
   "execution_count": 95,
   "metadata": {},
   "outputs": [
    {
     "data": {
      "text/plain": [
       "0.0    0.860558\n",
       "1.0    0.139442\n",
       "Name: not_available, dtype: float64"
      ]
     },
     "execution_count": 95,
     "metadata": {},
     "output_type": "execute_result"
    }
   ],
   "source": [
    "louisiana_news_df['not_available'].value_counts(normalize=True)"
   ]
  },
  {
   "cell_type": "markdown",
   "metadata": {},
   "source": [
    "### Maine"
   ]
  },
  {
   "cell_type": "code",
   "execution_count": 96,
   "metadata": {},
   "outputs": [
    {
     "name": "stdout",
     "output_type": "stream",
     "text": [
      "Number of articles to be processed:  442\n",
      "Currently processing article number:  0\n",
      "Currently processing article number:  100\n",
      "Currently processing article number:  200\n",
      "Currently processing article number:  300\n",
      "Currently processing article number:  400\n"
     ]
    }
   ],
   "source": [
    "print('Number of articles to be processed: ', maine_news_size)\n",
    "\n",
    "for i in range(maine_news_size):\n",
    "    # Where are we?\n",
    "    if i%100 == 0:\n",
    "        print('Currently processing article number: ', i)\n",
    "    # Load article    \n",
    "    url = maine_news_df.loc[i,\"url\"] \n",
    "    article = Article(url.strip())\n",
    "    \n",
    "    # Extract the text\n",
    "    try:\n",
    "        article.download()\n",
    "        article.parse()\n",
    "        text = article.text\n",
    "        \n",
    "        maine_news_df.loc[i,\"text\"] = text.replace('\\n\\n', ' ')  \n",
    "        maine_news_df.loc[i,\"not_available\"] = 0\n",
    "    \n",
    "    # Otherwise, indicate as not available\n",
    "    except:\n",
    "        maine_news_df.loc[i,\"text\"] = \"NA\"\n",
    "        maine_news_df.loc[i,\"not_available\"] = 1\n",
    "        continue "
   ]
  },
  {
   "cell_type": "code",
   "execution_count": 97,
   "metadata": {},
   "outputs": [],
   "source": [
    "maine_news_result_file = \"maine_news_results.csv\"\n",
    "maine_news_df.to_csv(maine_news_result_file, index=False, encoding='utf-8')"
   ]
  },
  {
   "cell_type": "code",
   "execution_count": 98,
   "metadata": {},
   "outputs": [
    {
     "data": {
      "text/plain": [
       "0.0    431\n",
       "1.0     11\n",
       "Name: not_available, dtype: int64"
      ]
     },
     "execution_count": 98,
     "metadata": {},
     "output_type": "execute_result"
    }
   ],
   "source": [
    "maine_news_df['not_available'].value_counts()"
   ]
  },
  {
   "cell_type": "code",
   "execution_count": 99,
   "metadata": {},
   "outputs": [
    {
     "data": {
      "text/plain": [
       "0.0    0.975113\n",
       "1.0    0.024887\n",
       "Name: not_available, dtype: float64"
      ]
     },
     "execution_count": 99,
     "metadata": {},
     "output_type": "execute_result"
    }
   ],
   "source": [
    "maine_news_df['not_available'].value_counts(normalize=True)"
   ]
  },
  {
   "cell_type": "markdown",
   "metadata": {},
   "source": [
    "### Maryland"
   ]
  },
  {
   "cell_type": "code",
   "execution_count": 100,
   "metadata": {},
   "outputs": [
    {
     "name": "stdout",
     "output_type": "stream",
     "text": [
      "Number of articles to be processed:  775\n",
      "Currently processing article number:  0\n",
      "Currently processing article number:  100\n",
      "Currently processing article number:  200\n",
      "Currently processing article number:  300\n",
      "Currently processing article number:  400\n",
      "Currently processing article number:  500\n",
      "Currently processing article number:  600\n",
      "Currently processing article number:  700\n"
     ]
    }
   ],
   "source": [
    "print('Number of articles to be processed: ', maryland_news_size)\n",
    "\n",
    "for i in range(maryland_news_size):\n",
    "    # Where are we?\n",
    "    if i%100 == 0:\n",
    "        print('Currently processing article number: ', i)\n",
    "    # Load article    \n",
    "    url = maryland_news_df.loc[i,\"url\"] \n",
    "    article = Article(url.strip())\n",
    "    \n",
    "    # Extract the text\n",
    "    try:\n",
    "        article.download()\n",
    "        article.parse()\n",
    "        text = article.text\n",
    "        \n",
    "        maryland_news_df.loc[i,\"text\"] = text.replace('\\n\\n', ' ')  \n",
    "        maryland_news_df.loc[i,\"not_available\"] = 0\n",
    "    \n",
    "    # Otherwise, indicate as not available\n",
    "    except:\n",
    "        maryland_news_df.loc[i,\"text\"] = \"NA\"\n",
    "        maryland_news_df.loc[i,\"not_available\"] = 1\n",
    "        continue "
   ]
  },
  {
   "cell_type": "code",
   "execution_count": 101,
   "metadata": {},
   "outputs": [],
   "source": [
    "maryland_news_result_file = \"maryland_news_results.csv\"\n",
    "maryland_news_df.to_csv(maryland_news_result_file, index=False, encoding='utf-8')"
   ]
  },
  {
   "cell_type": "code",
   "execution_count": 102,
   "metadata": {},
   "outputs": [
    {
     "data": {
      "text/plain": [
       "0.0    749\n",
       "1.0     26\n",
       "Name: not_available, dtype: int64"
      ]
     },
     "execution_count": 102,
     "metadata": {},
     "output_type": "execute_result"
    }
   ],
   "source": [
    "maryland_news_df['not_available'].value_counts()"
   ]
  },
  {
   "cell_type": "code",
   "execution_count": 103,
   "metadata": {},
   "outputs": [
    {
     "data": {
      "text/plain": [
       "0.0    0.966452\n",
       "1.0    0.033548\n",
       "Name: not_available, dtype: float64"
      ]
     },
     "execution_count": 103,
     "metadata": {},
     "output_type": "execute_result"
    }
   ],
   "source": [
    "maryland_news_df['not_available'].value_counts(normalize=True)"
   ]
  },
  {
   "cell_type": "markdown",
   "metadata": {},
   "source": [
    "### Massachusetts"
   ]
  },
  {
   "cell_type": "code",
   "execution_count": 104,
   "metadata": {},
   "outputs": [
    {
     "name": "stdout",
     "output_type": "stream",
     "text": [
      "Number of articles to be processed:  3801\n",
      "Currently processing article number:  0\n",
      "Currently processing article number:  100\n",
      "Currently processing article number:  200\n",
      "Currently processing article number:  300\n",
      "Currently processing article number:  400\n",
      "Currently processing article number:  500\n",
      "Currently processing article number:  600\n",
      "Currently processing article number:  700\n",
      "Currently processing article number:  800\n",
      "Currently processing article number:  900\n",
      "Currently processing article number:  1000\n",
      "Currently processing article number:  1100\n",
      "Currently processing article number:  1200\n",
      "Currently processing article number:  1300\n",
      "Currently processing article number:  1400\n",
      "Currently processing article number:  1500\n",
      "Currently processing article number:  1600\n",
      "Currently processing article number:  1700\n",
      "Currently processing article number:  1800\n",
      "Currently processing article number:  1900\n",
      "Currently processing article number:  2000\n",
      "Currently processing article number:  2100\n",
      "Currently processing article number:  2200\n",
      "Currently processing article number:  2300\n",
      "Currently processing article number:  2400\n",
      "Currently processing article number:  2500\n",
      "Currently processing article number:  2600\n",
      "Currently processing article number:  2700\n",
      "Currently processing article number:  2800\n",
      "Currently processing article number:  2900\n",
      "Currently processing article number:  3000\n",
      "Currently processing article number:  3100\n",
      "Currently processing article number:  3200\n",
      "Currently processing article number:  3300\n",
      "Currently processing article number:  3400\n",
      "Currently processing article number:  3500\n",
      "Currently processing article number:  3600\n",
      "Currently processing article number:  3700\n",
      "Currently processing article number:  3800\n"
     ]
    }
   ],
   "source": [
    "print('Number of articles to be processed: ', massachusetts_news_size)\n",
    "\n",
    "for i in range(massachusetts_news_size):\n",
    "    # Where are we?\n",
    "    if i%100 == 0:\n",
    "        print('Currently processing article number: ', i)\n",
    "    # Load article    \n",
    "    url = massachusetts_news_df.loc[i,\"url\"] \n",
    "    article = Article(url.strip())\n",
    "    \n",
    "    # Extract the text\n",
    "    try:\n",
    "        article.download()\n",
    "        article.parse()\n",
    "        text = article.text\n",
    "        \n",
    "        massachusetts_news_df.loc[i,\"text\"] = text.replace('\\n\\n', ' ')  \n",
    "        massachusetts_news_df.loc[i,\"not_available\"] = 0\n",
    "    \n",
    "    # Otherwise, indicate as not available\n",
    "    except:\n",
    "        massachusetts_news_df.loc[i,\"text\"] = \"NA\"\n",
    "        massachusetts_news_df.loc[i,\"not_available\"] = 1\n",
    "        continue "
   ]
  },
  {
   "cell_type": "code",
   "execution_count": 105,
   "metadata": {},
   "outputs": [],
   "source": [
    "massachusetts_news_result_file = \"massachusetts_news_results.csv\"\n",
    "massachusetts_news_df.to_csv(massachusetts_news_result_file, index=False, encoding='utf-8')"
   ]
  },
  {
   "cell_type": "code",
   "execution_count": 106,
   "metadata": {},
   "outputs": [
    {
     "data": {
      "text/plain": [
       "0.0    3350\n",
       "1.0     451\n",
       "Name: not_available, dtype: int64"
      ]
     },
     "execution_count": 106,
     "metadata": {},
     "output_type": "execute_result"
    }
   ],
   "source": [
    "massachusetts_news_df['not_available'].value_counts()"
   ]
  },
  {
   "cell_type": "code",
   "execution_count": 107,
   "metadata": {},
   "outputs": [
    {
     "data": {
      "text/plain": [
       "0.0    0.881347\n",
       "1.0    0.118653\n",
       "Name: not_available, dtype: float64"
      ]
     },
     "execution_count": 107,
     "metadata": {},
     "output_type": "execute_result"
    }
   ],
   "source": [
    "massachusetts_news_df['not_available'].value_counts(normalize=True)"
   ]
  },
  {
   "cell_type": "code",
   "execution_count": 108,
   "metadata": {},
   "outputs": [
    {
     "name": "stdout",
     "output_type": "stream",
     "text": [
      "Number of articles to be processed:  1339\n",
      "Currently processing article number:  0\n",
      "Currently processing article number:  100\n",
      "Currently processing article number:  200\n",
      "Currently processing article number:  300\n",
      "Currently processing article number:  400\n",
      "Currently processing article number:  500\n",
      "Currently processing article number:  600\n",
      "Currently processing article number:  700\n",
      "Currently processing article number:  800\n",
      "Currently processing article number:  900\n",
      "Currently processing article number:  1000\n",
      "Currently processing article number:  1100\n",
      "Currently processing article number:  1200\n",
      "Currently processing article number:  1300\n"
     ]
    }
   ],
   "source": [
    "# Michigan\n",
    "print('Number of articles to be processed: ', michigan_news_size)\n",
    "\n",
    "for i in range(michigan_news_size):\n",
    "    # Where are we?\n",
    "    if i%100 == 0:\n",
    "        print('Currently processing article number: ', i)\n",
    "    # Load article    \n",
    "    url = michigan_news_df.loc[i,\"url\"] \n",
    "    article = Article(url.strip())\n",
    "    \n",
    "    # Extract the text\n",
    "    try:\n",
    "        article.download()\n",
    "        article.parse()\n",
    "        text = article.text\n",
    "        \n",
    "        michigan_news_df.loc[i,\"text\"] = text.replace('\\n\\n', ' ')  \n",
    "        michigan_news_df.loc[i,\"not_available\"] = 0\n",
    "    \n",
    "    # Otherwise, indicate as not available\n",
    "    except:\n",
    "        michigan_news_df.loc[i,\"text\"] = \"NA\"\n",
    "        michigan_news_df.loc[i,\"not_available\"] = 1\n",
    "        continue "
   ]
  },
  {
   "cell_type": "code",
   "execution_count": 109,
   "metadata": {},
   "outputs": [],
   "source": [
    "michigan_news_result_file = \"michigan_news_results.csv\"\n",
    "michigan_news_df.to_csv(michigan_news_result_file, index=False, encoding='utf-8')"
   ]
  },
  {
   "cell_type": "code",
   "execution_count": 110,
   "metadata": {},
   "outputs": [
    {
     "data": {
      "text/plain": [
       "0.0    1278\n",
       "1.0      61\n",
       "Name: not_available, dtype: int64"
      ]
     },
     "execution_count": 110,
     "metadata": {},
     "output_type": "execute_result"
    }
   ],
   "source": [
    "michigan_news_df['not_available'].value_counts()"
   ]
  },
  {
   "cell_type": "code",
   "execution_count": 111,
   "metadata": {},
   "outputs": [
    {
     "data": {
      "text/plain": [
       "0.0    0.954444\n",
       "1.0    0.045556\n",
       "Name: not_available, dtype: float64"
      ]
     },
     "execution_count": 111,
     "metadata": {},
     "output_type": "execute_result"
    }
   ],
   "source": [
    "michigan_news_df['not_available'].value_counts(normalize=True)"
   ]
  },
  {
   "cell_type": "code",
   "execution_count": 124,
   "metadata": {},
   "outputs": [
    {
     "name": "stdout",
     "output_type": "stream",
     "text": [
      "Number of articles to be processed:  1971\n",
      "Currently processing article number:  0\n",
      "Currently processing article number:  100\n",
      "Currently processing article number:  200\n",
      "Currently processing article number:  300\n",
      "Currently processing article number:  400\n",
      "Currently processing article number:  500\n",
      "Currently processing article number:  600\n",
      "Currently processing article number:  700\n",
      "Currently processing article number:  800\n",
      "Currently processing article number:  900\n",
      "Currently processing article number:  1000\n",
      "Currently processing article number:  1100\n",
      "Currently processing article number:  1200\n",
      "Currently processing article number:  1300\n",
      "Currently processing article number:  1400\n",
      "Currently processing article number:  1500\n",
      "Currently processing article number:  1600\n",
      "Currently processing article number:  1700\n",
      "Currently processing article number:  1800\n",
      "Currently processing article number:  1900\n"
     ]
    }
   ],
   "source": [
    "# Minnesota\n",
    "print('Number of articles to be processed: ', minnesota_news_size)\n",
    "\n",
    "for i in range(minnesota_news_size):\n",
    "    # Where are we?\n",
    "    if i%100 == 0:\n",
    "        print('Currently processing article number: ', i)\n",
    "    # Load article    \n",
    "    url = minnesota_news_df.loc[i,\"url\"] \n",
    "    article = Article(url.strip())\n",
    "    \n",
    "    # Extract the text\n",
    "    try:\n",
    "        article.download()\n",
    "        article.parse()\n",
    "        text = article.text\n",
    "        \n",
    "        minnesota_news_df.loc[i,\"text\"] = text.replace('\\n\\n', ' ')  \n",
    "        minnesota_news_df.loc[i,\"not_available\"] = 0\n",
    "    \n",
    "    # Otherwise, indicate as not available\n",
    "    except:\n",
    "        minnesota_news_df.loc[i,\"text\"] = \"NA\"\n",
    "        minnesota_news_df.loc[i,\"not_available\"] = 1\n",
    "        continue "
   ]
  },
  {
   "cell_type": "code",
   "execution_count": 125,
   "metadata": {},
   "outputs": [],
   "source": [
    "minnesota_news_result_file = \"minnesota_news_results.csv\"\n",
    "minnesota_news_df.to_csv(minnesota_news_result_file, index=False, encoding='utf-8')"
   ]
  },
  {
   "cell_type": "code",
   "execution_count": 126,
   "metadata": {},
   "outputs": [
    {
     "data": {
      "text/plain": [
       "0.0    1775\n",
       "1.0     196\n",
       "Name: not_available, dtype: int64"
      ]
     },
     "execution_count": 126,
     "metadata": {},
     "output_type": "execute_result"
    }
   ],
   "source": [
    "minnesota_news_df['not_available'].value_counts()"
   ]
  },
  {
   "cell_type": "code",
   "execution_count": 127,
   "metadata": {},
   "outputs": [
    {
     "data": {
      "text/plain": [
       "0.0    0.900558\n",
       "1.0    0.099442\n",
       "Name: not_available, dtype: float64"
      ]
     },
     "execution_count": 127,
     "metadata": {},
     "output_type": "execute_result"
    }
   ],
   "source": [
    "minnesota_news_df['not_available'].value_counts(normalize=True)"
   ]
  },
  {
   "cell_type": "code",
   "execution_count": 128,
   "metadata": {},
   "outputs": [],
   "source": [
    "# Mississippi"
   ]
  },
  {
   "cell_type": "code",
   "execution_count": 129,
   "metadata": {},
   "outputs": [
    {
     "name": "stdout",
     "output_type": "stream",
     "text": [
      "Number of articles to be processed:  224\n",
      "Currently processing article number:  0\n",
      "Currently processing article number:  100\n",
      "Currently processing article number:  200\n"
     ]
    }
   ],
   "source": [
    "print('Number of articles to be processed: ', mississippi_news_size)\n",
    "\n",
    "for i in range(mississippi_news_size):\n",
    "    # Where are we?\n",
    "    if i%100 == 0:\n",
    "        print('Currently processing article number: ', i)\n",
    "    # Load article    \n",
    "    url = mississippi_news_df.loc[i,\"url\"] \n",
    "    article = Article(url.strip())\n",
    "    \n",
    "    # Extract the text\n",
    "    try:\n",
    "        article.download()\n",
    "        article.parse()\n",
    "        text = article.text\n",
    "        \n",
    "        mississippi_news_df.loc[i,\"text\"] = text.replace('\\n\\n', ' ')  \n",
    "        mississippi_news_df.loc[i,\"not_available\"] = 0\n",
    "    \n",
    "    # Otherwise, indicate as not available\n",
    "    except:\n",
    "        mississippi_news_df.loc[i,\"text\"] = \"NA\"\n",
    "        mississippi_news_df.loc[i,\"not_available\"] = 1\n",
    "        continue "
   ]
  },
  {
   "cell_type": "code",
   "execution_count": 130,
   "metadata": {},
   "outputs": [],
   "source": [
    "mississippi_news_result_file = \"mississippi_news_results.csv\"\n",
    "mississippi_news_df.to_csv(mississippi_news_result_file, index=False, encoding='utf-8')"
   ]
  },
  {
   "cell_type": "code",
   "execution_count": 131,
   "metadata": {},
   "outputs": [
    {
     "data": {
      "text/plain": [
       "0.0    221\n",
       "1.0      3\n",
       "Name: not_available, dtype: int64"
      ]
     },
     "execution_count": 131,
     "metadata": {},
     "output_type": "execute_result"
    }
   ],
   "source": [
    "mississippi_news_df['not_available'].value_counts()"
   ]
  },
  {
   "cell_type": "code",
   "execution_count": 132,
   "metadata": {},
   "outputs": [
    {
     "data": {
      "text/plain": [
       "0.0    0.986607\n",
       "1.0    0.013393\n",
       "Name: not_available, dtype: float64"
      ]
     },
     "execution_count": 132,
     "metadata": {},
     "output_type": "execute_result"
    }
   ],
   "source": [
    "mississippi_news_df['not_available'].value_counts(normalize=True)"
   ]
  },
  {
   "cell_type": "code",
   "execution_count": 133,
   "metadata": {},
   "outputs": [
    {
     "name": "stdout",
     "output_type": "stream",
     "text": [
      "Number of articles to be processed:  1100\n",
      "Currently processing article number:  0\n",
      "Currently processing article number:  100\n",
      "Currently processing article number:  200\n",
      "Currently processing article number:  300\n",
      "Currently processing article number:  400\n",
      "Currently processing article number:  500\n",
      "Currently processing article number:  600\n",
      "Currently processing article number:  700\n",
      "Currently processing article number:  800\n",
      "Currently processing article number:  900\n",
      "Currently processing article number:  1000\n"
     ]
    }
   ],
   "source": [
    "# MISSOURI\n",
    "print('Number of articles to be processed: ', missouri_news_size)\n",
    "\n",
    "for i in range(missouri_news_size):\n",
    "    # Where are we?\n",
    "    if i%100 == 0:\n",
    "        print('Currently processing article number: ', i)\n",
    "    # Load article    \n",
    "    url = missouri_news_df.loc[i,\"url\"] \n",
    "    article = Article(url.strip())\n",
    "    \n",
    "    # Extract the text\n",
    "    try:\n",
    "        article.download()\n",
    "        article.parse()\n",
    "        text = article.text\n",
    "        \n",
    "        missouri_news_df.loc[i,\"text\"] = text.replace('\\n\\n', ' ')  \n",
    "        missouri_news_df.loc[i,\"not_available\"] = 0\n",
    "    \n",
    "    # Otherwise, indicate as not available\n",
    "    except:\n",
    "        missouri_news_df.loc[i,\"text\"] = \"NA\"\n",
    "        missouri_news_df.loc[i,\"not_available\"] = 1\n",
    "        continue "
   ]
  },
  {
   "cell_type": "code",
   "execution_count": 134,
   "metadata": {},
   "outputs": [],
   "source": [
    "missouri_news_result_file = \"missouri_news_results.csv\"\n",
    "missouri_news_df.to_csv(missouri_news_result_file, index=False, encoding='utf-8')"
   ]
  },
  {
   "cell_type": "code",
   "execution_count": 135,
   "metadata": {},
   "outputs": [
    {
     "data": {
      "text/plain": [
       "0.0    1020\n",
       "1.0      80\n",
       "Name: not_available, dtype: int64"
      ]
     },
     "execution_count": 135,
     "metadata": {},
     "output_type": "execute_result"
    }
   ],
   "source": [
    "missouri_news_df['not_available'].value_counts()"
   ]
  },
  {
   "cell_type": "code",
   "execution_count": 136,
   "metadata": {},
   "outputs": [
    {
     "data": {
      "text/plain": [
       "0.0    0.927273\n",
       "1.0    0.072727\n",
       "Name: not_available, dtype: float64"
      ]
     },
     "execution_count": 136,
     "metadata": {},
     "output_type": "execute_result"
    }
   ],
   "source": [
    "missouri_news_df['not_available'].value_counts(normalize=True)"
   ]
  },
  {
   "cell_type": "code",
   "execution_count": 137,
   "metadata": {},
   "outputs": [
    {
     "name": "stdout",
     "output_type": "stream",
     "text": [
      "Number of articles to be processed:  153\n",
      "Currently processing article number:  0\n",
      "Currently processing article number:  100\n"
     ]
    }
   ],
   "source": [
    "# Montana\n",
    "print('Number of articles to be processed: ', montana_news_size)\n",
    "\n",
    "for i in range(montana_news_size):\n",
    "    # Where are we?\n",
    "    if i%100 == 0:\n",
    "        print('Currently processing article number: ', i)\n",
    "    # Load article    \n",
    "    url = montana_news_df.loc[i,\"url\"] \n",
    "    article = Article(url.strip())\n",
    "    \n",
    "    # Extract the text\n",
    "    try:\n",
    "        article.download()\n",
    "        article.parse()\n",
    "        text = article.text\n",
    "        \n",
    "        montana_news_df.loc[i,\"text\"] = text.replace('\\n\\n', ' ')  \n",
    "        montana_news_df.loc[i,\"not_available\"] = 0\n",
    "    \n",
    "    # Otherwise, indicate as not available\n",
    "    except:\n",
    "        montana_news_df.loc[i,\"text\"] = \"NA\"\n",
    "        montana_news_df.loc[i,\"not_available\"] = 1\n",
    "        continue "
   ]
  },
  {
   "cell_type": "code",
   "execution_count": 138,
   "metadata": {},
   "outputs": [],
   "source": [
    "montana_news_result_file = \"montana_news_results.csv\"\n",
    "montana_news_df.to_csv(montana_news_result_file, index=False, encoding='utf-8')"
   ]
  },
  {
   "cell_type": "code",
   "execution_count": 139,
   "metadata": {},
   "outputs": [
    {
     "data": {
      "text/plain": [
       "0.0    109\n",
       "1.0     44\n",
       "Name: not_available, dtype: int64"
      ]
     },
     "execution_count": 139,
     "metadata": {},
     "output_type": "execute_result"
    }
   ],
   "source": [
    "montana_news_df['not_available'].value_counts()"
   ]
  },
  {
   "cell_type": "code",
   "execution_count": 140,
   "metadata": {},
   "outputs": [
    {
     "data": {
      "text/plain": [
       "0.0    0.712418\n",
       "1.0    0.287582\n",
       "Name: not_available, dtype: float64"
      ]
     },
     "execution_count": 140,
     "metadata": {},
     "output_type": "execute_result"
    }
   ],
   "source": [
    "montana_news_df['not_available'].value_counts(normalize=True)"
   ]
  },
  {
   "cell_type": "code",
   "execution_count": 141,
   "metadata": {},
   "outputs": [
    {
     "name": "stdout",
     "output_type": "stream",
     "text": [
      "Number of articles to be processed:  307\n",
      "Currently processing article number:  0\n",
      "Currently processing article number:  100\n",
      "Currently processing article number:  200\n",
      "Currently processing article number:  300\n"
     ]
    }
   ],
   "source": [
    "# Nebraska\n",
    "print('Number of articles to be processed: ', nebraska_news_size)\n",
    "\n",
    "for i in range(nebraska_news_size):\n",
    "    # Where are we?\n",
    "    if i%100 == 0:\n",
    "        print('Currently processing article number: ', i)\n",
    "    # Load article    \n",
    "    url = nebraska_news_df.loc[i,\"url\"] \n",
    "    article = Article(url.strip())\n",
    "    \n",
    "    # Extract the text\n",
    "    try:\n",
    "        article.download()\n",
    "        article.parse()\n",
    "        text = article.text\n",
    "        \n",
    "        nebraska_news_df.loc[i,\"text\"] = text.replace('\\n\\n', ' ')  \n",
    "        nebraska_news_df.loc[i,\"not_available\"] = 0\n",
    "    \n",
    "    # Otherwise, indicate as not available\n",
    "    except:\n",
    "        nebraska_news_df.loc[i,\"text\"] = \"NA\"\n",
    "        nebraska_news_df.loc[i,\"not_available\"] = 1\n",
    "        continue "
   ]
  },
  {
   "cell_type": "code",
   "execution_count": 144,
   "metadata": {},
   "outputs": [],
   "source": [
    "nebraska_news_result_file = \"nebraska_news_results.csv\"\n",
    "nebraska_news_df.to_csv(nebraska_news_result_file, index=False, encoding='utf-8')"
   ]
  },
  {
   "cell_type": "code",
   "execution_count": 142,
   "metadata": {},
   "outputs": [
    {
     "data": {
      "text/plain": [
       "0.0    306\n",
       "1.0      1\n",
       "Name: not_available, dtype: int64"
      ]
     },
     "execution_count": 142,
     "metadata": {},
     "output_type": "execute_result"
    }
   ],
   "source": [
    "nebraska_news_df['not_available'].value_counts()"
   ]
  },
  {
   "cell_type": "code",
   "execution_count": 143,
   "metadata": {},
   "outputs": [
    {
     "data": {
      "text/plain": [
       "0.0    0.996743\n",
       "1.0    0.003257\n",
       "Name: not_available, dtype: float64"
      ]
     },
     "execution_count": 143,
     "metadata": {},
     "output_type": "execute_result"
    }
   ],
   "source": [
    "nebraska_news_df['not_available'].value_counts(normalize=True)"
   ]
  },
  {
   "cell_type": "code",
   "execution_count": 145,
   "metadata": {},
   "outputs": [
    {
     "name": "stdout",
     "output_type": "stream",
     "text": [
      "Number of articles to be processed:  1075\n",
      "Currently processing article number:  0\n",
      "Currently processing article number:  100\n",
      "Currently processing article number:  200\n",
      "Currently processing article number:  300\n",
      "Currently processing article number:  400\n",
      "Currently processing article number:  500\n",
      "Currently processing article number:  600\n",
      "Currently processing article number:  700\n",
      "Currently processing article number:  800\n",
      "Currently processing article number:  900\n",
      "Currently processing article number:  1000\n"
     ]
    }
   ],
   "source": [
    "# Nevada\n",
    "print('Number of articles to be processed: ', nevada_news_size)\n",
    "\n",
    "for i in range(nevada_news_size):\n",
    "    # Where are we?\n",
    "    if i%100 == 0:\n",
    "        print('Currently processing article number: ', i)\n",
    "    # Load article    \n",
    "    url = nevada_news_df.loc[i,\"url\"] \n",
    "    article = Article(url.strip())\n",
    "    \n",
    "    # Extract the text\n",
    "    try:\n",
    "        article.download()\n",
    "        article.parse()\n",
    "        text = article.text\n",
    "        \n",
    "        nevada_news_df.loc[i,\"text\"] = text.replace('\\n\\n', ' ')  \n",
    "        nevada_news_df.loc[i,\"not_available\"] = 0\n",
    "    \n",
    "    # Otherwise, indicate as not available\n",
    "    except:\n",
    "        nevada_news_df.loc[i,\"text\"] = \"NA\"\n",
    "        nevada_news_df.loc[i,\"not_available\"] = 1\n",
    "        continue "
   ]
  },
  {
   "cell_type": "code",
   "execution_count": 146,
   "metadata": {},
   "outputs": [],
   "source": [
    "nevada_news_result_file = \"nevada_news_results.csv\"\n",
    "nevada_news_df.to_csv(nevada_news_result_file, index=False, encoding='utf-8')"
   ]
  },
  {
   "cell_type": "code",
   "execution_count": 147,
   "metadata": {},
   "outputs": [
    {
     "data": {
      "text/plain": [
       "0.0    1037\n",
       "1.0      38\n",
       "Name: not_available, dtype: int64"
      ]
     },
     "execution_count": 147,
     "metadata": {},
     "output_type": "execute_result"
    }
   ],
   "source": [
    "nevada_news_df['not_available'].value_counts()"
   ]
  },
  {
   "cell_type": "code",
   "execution_count": 148,
   "metadata": {},
   "outputs": [
    {
     "data": {
      "text/plain": [
       "0.0    0.964651\n",
       "1.0    0.035349\n",
       "Name: not_available, dtype: float64"
      ]
     },
     "execution_count": 148,
     "metadata": {},
     "output_type": "execute_result"
    }
   ],
   "source": [
    "nevada_news_df['not_available'].value_counts(normalize=True)"
   ]
  },
  {
   "cell_type": "code",
   "execution_count": 165,
   "metadata": {},
   "outputs": [
    {
     "name": "stdout",
     "output_type": "stream",
     "text": [
      "Number of articles to be processed:  445\n",
      "Currently processing article number:  0\n",
      "Currently processing article number:  100\n",
      "Currently processing article number:  200\n",
      "Currently processing article number:  300\n",
      "Currently processing article number:  400\n"
     ]
    }
   ],
   "source": [
    "# New Hampshire\n",
    "print('Number of articles to be processed: ', new_hampshire_news_size)\n",
    "\n",
    "for i in range(new_hampshire_news_size):\n",
    "    # Where are we?\n",
    "    if i%100 == 0:\n",
    "        print('Currently processing article number: ', i)\n",
    "    # Load article    \n",
    "    url = new_hampshire_news_df.loc[i,\"url\"] \n",
    "    article = Article(url.strip())\n",
    "    \n",
    "    # Extract the text\n",
    "    try:\n",
    "        article.download()\n",
    "        article.parse()\n",
    "        text = article.text\n",
    "        \n",
    "        new_hampshire_news_df.loc[i,\"text\"] = text.replace('\\n\\n', ' ')  \n",
    "        new_hampshire_news_df.loc[i,\"not_available\"] = 0\n",
    "    \n",
    "    # Otherwise, indicate as not available\n",
    "    except:\n",
    "        new_hampshire_news_df.loc[i,\"text\"] = \"NA\"\n",
    "        new_hampshire_news_df.loc[i,\"not_available\"] = 1\n",
    "        continue "
   ]
  },
  {
   "cell_type": "code",
   "execution_count": 166,
   "metadata": {},
   "outputs": [],
   "source": [
    "new_hampshire_news_result_file = \"new_hampshire_news_results.csv\"\n",
    "new_hampshire_news_df.to_csv(new_hampshire_news_result_file, index=False, encoding='utf-8')"
   ]
  },
  {
   "cell_type": "code",
   "execution_count": 167,
   "metadata": {},
   "outputs": [
    {
     "data": {
      "text/plain": [
       "0.0    430\n",
       "1.0     15\n",
       "Name: not_available, dtype: int64"
      ]
     },
     "execution_count": 167,
     "metadata": {},
     "output_type": "execute_result"
    }
   ],
   "source": [
    "new_hampshire_news_df['not_available'].value_counts()"
   ]
  },
  {
   "cell_type": "code",
   "execution_count": 168,
   "metadata": {},
   "outputs": [
    {
     "data": {
      "text/plain": [
       "0.0    0.966292\n",
       "1.0    0.033708\n",
       "Name: not_available, dtype: float64"
      ]
     },
     "execution_count": 168,
     "metadata": {},
     "output_type": "execute_result"
    }
   ],
   "source": [
    "new_hampshire_news_df['not_available'].value_counts(normalize=True)"
   ]
  },
  {
   "cell_type": "code",
   "execution_count": 169,
   "metadata": {},
   "outputs": [
    {
     "name": "stdout",
     "output_type": "stream",
     "text": [
      "Number of articles to be processed:  457\n",
      "Currently processing article number:  0\n",
      "Currently processing article number:  100\n",
      "Currently processing article number:  200\n",
      "Currently processing article number:  300\n",
      "Currently processing article number:  400\n"
     ]
    }
   ],
   "source": [
    "# New Jersey\n",
    "print('Number of articles to be processed: ', new_jersey_news_size)\n",
    "\n",
    "for i in range(new_jersey_news_size):\n",
    "    # Where are we?\n",
    "    if i%100 == 0:\n",
    "        print('Currently processing article number: ', i)\n",
    "    # Load article    \n",
    "    url = new_jersey_news_df.loc[i,\"url\"] \n",
    "    article = Article(url.strip())\n",
    "    \n",
    "    # Extract the text\n",
    "    try:\n",
    "        article.download()\n",
    "        article.parse()\n",
    "        text = article.text\n",
    "        \n",
    "        new_jersey_news_df.loc[i,\"text\"] = text.replace('\\n\\n', ' ')  \n",
    "        new_jersey_news_df.loc[i,\"not_available\"] = 0\n",
    "    \n",
    "    # Otherwise, indicate as not available\n",
    "    except:\n",
    "        new_jersey_news_df.loc[i,\"text\"] = \"NA\"\n",
    "        new_jersey_news_df.loc[i,\"not_available\"] = 1\n",
    "        continue "
   ]
  },
  {
   "cell_type": "code",
   "execution_count": 170,
   "metadata": {},
   "outputs": [],
   "source": [
    "new_jersey_news_result_file = \"new_jersey_news_results.csv\"\n",
    "new_jersey_news_df.to_csv(new_jersey_news_result_file, index=False, encoding='utf-8')"
   ]
  },
  {
   "cell_type": "code",
   "execution_count": 171,
   "metadata": {},
   "outputs": [
    {
     "data": {
      "text/plain": [
       "0.0    449\n",
       "1.0      8\n",
       "Name: not_available, dtype: int64"
      ]
     },
     "execution_count": 171,
     "metadata": {},
     "output_type": "execute_result"
    }
   ],
   "source": [
    "new_jersey_news_df['not_available'].value_counts()"
   ]
  },
  {
   "cell_type": "code",
   "execution_count": 172,
   "metadata": {},
   "outputs": [
    {
     "data": {
      "text/plain": [
       "0.0    0.982495\n",
       "1.0    0.017505\n",
       "Name: not_available, dtype: float64"
      ]
     },
     "execution_count": 172,
     "metadata": {},
     "output_type": "execute_result"
    }
   ],
   "source": [
    "new_jersey_news_df['not_available'].value_counts(normalize=True)"
   ]
  },
  {
   "cell_type": "code",
   "execution_count": 173,
   "metadata": {},
   "outputs": [
    {
     "name": "stdout",
     "output_type": "stream",
     "text": [
      "Number of articles to be processed:  608\n",
      "Currently processing article number:  0\n",
      "Currently processing article number:  100\n",
      "Currently processing article number:  200\n",
      "Currently processing article number:  300\n",
      "Currently processing article number:  400\n",
      "Currently processing article number:  500\n",
      "Currently processing article number:  600\n"
     ]
    }
   ],
   "source": [
    "# New Mexico\n",
    "print('Number of articles to be processed: ', new_mexico_news_size)\n",
    "\n",
    "for i in range(new_mexico_news_size):\n",
    "    # Where are we?\n",
    "    if i%100 == 0:\n",
    "        print('Currently processing article number: ', i)\n",
    "    # Load article    \n",
    "    url = new_mexico_news_df.loc[i,\"url\"] \n",
    "    article = Article(url.strip())\n",
    "    \n",
    "    # Extract the text\n",
    "    try:\n",
    "        article.download()\n",
    "        article.parse()\n",
    "        text = article.text\n",
    "        \n",
    "        new_mexico_news_df.loc[i,\"text\"] = text.replace('\\n\\n', ' ')  \n",
    "        new_mexico_news_df.loc[i,\"not_available\"] = 0\n",
    "    \n",
    "    # Otherwise, indicate as not available\n",
    "    except:\n",
    "        new_mexico_news_df.loc[i,\"text\"] = \"NA\"\n",
    "        new_mexico_news_df.loc[i,\"not_available\"] = 1\n",
    "        continue "
   ]
  },
  {
   "cell_type": "code",
   "execution_count": 174,
   "metadata": {},
   "outputs": [],
   "source": [
    "new_mexico_news_result_file = \"new_mexico_news_results.csv\"\n",
    "new_mexico_news_df.to_csv(new_mexico_news_result_file, index=False, encoding='utf-8')"
   ]
  },
  {
   "cell_type": "code",
   "execution_count": 175,
   "metadata": {},
   "outputs": [
    {
     "data": {
      "text/plain": [
       "0.0    524\n",
       "1.0     84\n",
       "Name: not_available, dtype: int64"
      ]
     },
     "execution_count": 175,
     "metadata": {},
     "output_type": "execute_result"
    }
   ],
   "source": [
    "new_mexico_news_df['not_available'].value_counts()"
   ]
  },
  {
   "cell_type": "code",
   "execution_count": 176,
   "metadata": {},
   "outputs": [
    {
     "data": {
      "text/plain": [
       "0.0    0.861842\n",
       "1.0    0.138158\n",
       "Name: not_available, dtype: float64"
      ]
     },
     "execution_count": 176,
     "metadata": {},
     "output_type": "execute_result"
    }
   ],
   "source": [
    "new_mexico_news_df['not_available'].value_counts(normalize=True)"
   ]
  },
  {
   "cell_type": "code",
   "execution_count": 181,
   "metadata": {},
   "outputs": [
    {
     "name": "stdout",
     "output_type": "stream",
     "text": [
      "Number of articles to be processed:  3732\n",
      "Currently processing article number:  0\n",
      "Currently processing article number:  100\n",
      "Currently processing article number:  200\n",
      "Currently processing article number:  300\n",
      "Currently processing article number:  400\n",
      "Currently processing article number:  500\n",
      "Currently processing article number:  600\n",
      "Currently processing article number:  700\n",
      "Currently processing article number:  800\n",
      "Currently processing article number:  900\n",
      "Currently processing article number:  1000\n",
      "Currently processing article number:  1100\n",
      "Currently processing article number:  1200\n",
      "Currently processing article number:  1300\n",
      "Currently processing article number:  1400\n",
      "Currently processing article number:  1500\n",
      "Currently processing article number:  1600\n",
      "Currently processing article number:  1700\n",
      "Currently processing article number:  1800\n",
      "Currently processing article number:  1900\n",
      "Currently processing article number:  2000\n",
      "Currently processing article number:  2100\n",
      "Currently processing article number:  2200\n",
      "Currently processing article number:  2300\n",
      "Currently processing article number:  2400\n",
      "Currently processing article number:  2500\n",
      "Currently processing article number:  2600\n",
      "Currently processing article number:  2700\n",
      "Currently processing article number:  2800\n",
      "Currently processing article number:  2900\n",
      "Currently processing article number:  3000\n",
      "Currently processing article number:  3100\n",
      "Currently processing article number:  3200\n",
      "Currently processing article number:  3300\n",
      "Currently processing article number:  3400\n",
      "Currently processing article number:  3500\n",
      "Currently processing article number:  3600\n",
      "Currently processing article number:  3700\n"
     ]
    }
   ],
   "source": [
    "# New York\n",
    "print('Number of articles to be processed: ', new_york_news_size)\n",
    "\n",
    "for i in range(new_york_news_size):\n",
    "    # Where are we?\n",
    "    if i%100 == 0:\n",
    "        print('Currently processing article number: ', i)\n",
    "    # Load article    \n",
    "    url = new_york_news_df.loc[i,\"url\"] \n",
    "    article = Article(url.strip())\n",
    "    \n",
    "    # Extract the text\n",
    "    try:\n",
    "        article.download()\n",
    "        article.parse()\n",
    "        text = article.text\n",
    "        \n",
    "        new_york_news_df.loc[i,\"text\"] = text.replace('\\n\\n', ' ')  \n",
    "        new_york_news_df.loc[i,\"not_available\"] = 0\n",
    "    \n",
    "    # Otherwise, indicate as not available\n",
    "    except:\n",
    "        new_york_news_df.loc[i,\"text\"] = \"NA\"\n",
    "        new_york_news_df.loc[i,\"not_available\"] = 1\n",
    "        continue "
   ]
  },
  {
   "cell_type": "code",
   "execution_count": 183,
   "metadata": {},
   "outputs": [],
   "source": [
    "new_york_news_result_file = \"new_york_news_results.csv\"\n",
    "new_york_news_df.to_csv(new_york_news_result_file, index=False, encoding='utf-8')"
   ]
  },
  {
   "cell_type": "code",
   "execution_count": 184,
   "metadata": {},
   "outputs": [
    {
     "data": {
      "text/plain": [
       "0.0    3484\n",
       "1.0     248\n",
       "Name: not_available, dtype: int64"
      ]
     },
     "execution_count": 184,
     "metadata": {},
     "output_type": "execute_result"
    }
   ],
   "source": [
    "new_york_news_df['not_available'].value_counts()"
   ]
  },
  {
   "cell_type": "code",
   "execution_count": 185,
   "metadata": {},
   "outputs": [
    {
     "data": {
      "text/plain": [
       "0.0    0.933548\n",
       "1.0    0.066452\n",
       "Name: not_available, dtype: float64"
      ]
     },
     "execution_count": 185,
     "metadata": {},
     "output_type": "execute_result"
    }
   ],
   "source": [
    "new_york_news_df['not_available'].value_counts(normalize=True)"
   ]
  },
  {
   "cell_type": "code",
   "execution_count": 186,
   "metadata": {},
   "outputs": [
    {
     "name": "stdout",
     "output_type": "stream",
     "text": [
      "Number of articles to be processed:  1195\n",
      "Currently processing article number:  0\n",
      "Currently processing article number:  100\n",
      "Currently processing article number:  200\n",
      "Currently processing article number:  300\n",
      "Currently processing article number:  400\n",
      "Currently processing article number:  500\n",
      "Currently processing article number:  600\n",
      "Currently processing article number:  700\n",
      "Currently processing article number:  800\n",
      "Currently processing article number:  900\n",
      "Currently processing article number:  1000\n",
      "Currently processing article number:  1100\n"
     ]
    }
   ],
   "source": [
    "# North Carolina\n",
    "print('Number of articles to be processed: ', north_carolina_news_size)\n",
    "\n",
    "for i in range(north_carolina_news_size):\n",
    "    # Where are we?\n",
    "    if i%100 == 0:\n",
    "        print('Currently processing article number: ', i)\n",
    "    # Load article    \n",
    "    url = north_carolina_news_df.loc[i,\"url\"] \n",
    "    article = Article(url.strip())\n",
    "    \n",
    "    # Extract the text\n",
    "    try:\n",
    "        article.download()\n",
    "        article.parse()\n",
    "        text = article.text\n",
    "        \n",
    "        north_carolina_news_df.loc[i,\"text\"] = text.replace('\\n\\n', ' ')  \n",
    "        north_carolina_news_df.loc[i,\"not_available\"] = 0\n",
    "    \n",
    "    # Otherwise, indicate as not available\n",
    "    except:\n",
    "        north_carolina_news_df.loc[i,\"text\"] = \"NA\"\n",
    "        north_carolina_news_df.loc[i,\"not_available\"] = 1\n",
    "        continue "
   ]
  },
  {
   "cell_type": "code",
   "execution_count": 187,
   "metadata": {},
   "outputs": [],
   "source": [
    "north_carolina_news_result_file = \"north_carolina_news_results.csv\"\n",
    "north_carolina_news_df.to_csv(north_carolina_news_result_file, index=False, encoding='utf-8')"
   ]
  },
  {
   "cell_type": "code",
   "execution_count": 188,
   "metadata": {},
   "outputs": [
    {
     "data": {
      "text/plain": [
       "0.0    1033\n",
       "1.0     162\n",
       "Name: not_available, dtype: int64"
      ]
     },
     "execution_count": 188,
     "metadata": {},
     "output_type": "execute_result"
    }
   ],
   "source": [
    "north_carolina_news_df['not_available'].value_counts()"
   ]
  },
  {
   "cell_type": "code",
   "execution_count": 189,
   "metadata": {},
   "outputs": [
    {
     "data": {
      "text/plain": [
       "0.0    0.864435\n",
       "1.0    0.135565\n",
       "Name: not_available, dtype: float64"
      ]
     },
     "execution_count": 189,
     "metadata": {},
     "output_type": "execute_result"
    }
   ],
   "source": [
    "north_carolina_news_df['not_available'].value_counts(normalize=True)"
   ]
  },
  {
   "cell_type": "code",
   "execution_count": 190,
   "metadata": {},
   "outputs": [
    {
     "name": "stdout",
     "output_type": "stream",
     "text": [
      "Number of articles to be processed:  384\n",
      "Currently processing article number:  0\n",
      "Currently processing article number:  100\n",
      "Currently processing article number:  200\n",
      "Currently processing article number:  300\n"
     ]
    }
   ],
   "source": [
    "# North Dakota\n",
    "print('Number of articles to be processed: ', north_dakota_news_size)\n",
    "\n",
    "for i in range(north_dakota_news_size):\n",
    "    # Where are we?\n",
    "    if i%100 == 0:\n",
    "        print('Currently processing article number: ', i)\n",
    "    # Load article    \n",
    "    url = north_dakota_news_df.loc[i,\"url\"] \n",
    "    article = Article(url.strip())\n",
    "    \n",
    "    # Extract the text\n",
    "    try:\n",
    "        article.download()\n",
    "        article.parse()\n",
    "        text = article.text\n",
    "        \n",
    "        north_dakota_news_df.loc[i,\"text\"] = text.replace('\\n\\n', ' ')  \n",
    "        north_dakota_news_df.loc[i,\"not_available\"] = 0\n",
    "    \n",
    "    # Otherwise, indicate as not available\n",
    "    except:\n",
    "        north_dakota_news_df.loc[i,\"text\"] = \"NA\"\n",
    "        north_dakota_news_df.loc[i,\"not_available\"] = 1\n",
    "        continue "
   ]
  },
  {
   "cell_type": "code",
   "execution_count": 191,
   "metadata": {},
   "outputs": [],
   "source": [
    "north_dakota_news_result_file = \"north_dakota_news_results.csv\"\n",
    "north_dakota_news_df.to_csv(north_dakota_news_result_file, index=False, encoding='utf-8')"
   ]
  },
  {
   "cell_type": "code",
   "execution_count": 192,
   "metadata": {},
   "outputs": [
    {
     "data": {
      "text/plain": [
       "0.0    375\n",
       "1.0      9\n",
       "Name: not_available, dtype: int64"
      ]
     },
     "execution_count": 192,
     "metadata": {},
     "output_type": "execute_result"
    }
   ],
   "source": [
    "north_dakota_news_df['not_available'].value_counts()"
   ]
  },
  {
   "cell_type": "code",
   "execution_count": 193,
   "metadata": {},
   "outputs": [
    {
     "data": {
      "text/plain": [
       "0.0    0.976562\n",
       "1.0    0.023438\n",
       "Name: not_available, dtype: float64"
      ]
     },
     "execution_count": 193,
     "metadata": {},
     "output_type": "execute_result"
    }
   ],
   "source": [
    "north_dakota_news_df['not_available'].value_counts(normalize=True)"
   ]
  },
  {
   "cell_type": "code",
   "execution_count": 149,
   "metadata": {},
   "outputs": [
    {
     "name": "stdout",
     "output_type": "stream",
     "text": [
      "Number of articles to be processed:  3790\n",
      "Currently processing article number:  0\n",
      "Currently processing article number:  100\n",
      "Currently processing article number:  200\n",
      "Currently processing article number:  300\n",
      "Currently processing article number:  400\n",
      "Currently processing article number:  500\n",
      "Currently processing article number:  600\n",
      "Currently processing article number:  700\n",
      "Currently processing article number:  800\n",
      "Currently processing article number:  900\n",
      "Currently processing article number:  1000\n",
      "Currently processing article number:  1100\n",
      "Currently processing article number:  1200\n",
      "Currently processing article number:  1300\n",
      "Currently processing article number:  1400\n",
      "Currently processing article number:  1500\n",
      "Currently processing article number:  1600\n",
      "Currently processing article number:  1700\n",
      "Currently processing article number:  1800\n",
      "Currently processing article number:  1900\n",
      "Currently processing article number:  2000\n",
      "Currently processing article number:  2100\n",
      "Currently processing article number:  2200\n",
      "Currently processing article number:  2300\n",
      "Currently processing article number:  2400\n",
      "Currently processing article number:  2500\n",
      "Currently processing article number:  2600\n",
      "Currently processing article number:  2700\n",
      "Currently processing article number:  2800\n",
      "Currently processing article number:  2900\n",
      "Currently processing article number:  3000\n",
      "Currently processing article number:  3100\n",
      "Currently processing article number:  3200\n",
      "Currently processing article number:  3300\n",
      "Currently processing article number:  3400\n",
      "Currently processing article number:  3500\n",
      "Currently processing article number:  3600\n",
      "Currently processing article number:  3700\n"
     ]
    }
   ],
   "source": [
    "# Ohio\n",
    "print('Number of articles to be processed: ', ohio_news_size)\n",
    "\n",
    "for i in range(ohio_news_size):\n",
    "    # Where are we?\n",
    "    if i%100 == 0:\n",
    "        print('Currently processing article number: ', i)\n",
    "    # Load article    \n",
    "    url = ohio_news_df.loc[i,\"url\"] \n",
    "    article = Article(url.strip())\n",
    "    \n",
    "    # Extract the text\n",
    "    try:\n",
    "        article.download()\n",
    "        article.parse()\n",
    "        text = article.text\n",
    "        \n",
    "        ohio_news_df.loc[i,\"text\"] = text.replace('\\n\\n', ' ')  \n",
    "        ohio_news_df.loc[i,\"not_available\"] = 0\n",
    "    \n",
    "    # Otherwise, indicate as not available\n",
    "    except:\n",
    "        ohio_news_df.loc[i,\"text\"] = \"NA\"\n",
    "        ohio_news_df.loc[i,\"not_available\"] = 1\n",
    "        continue "
   ]
  },
  {
   "cell_type": "code",
   "execution_count": 150,
   "metadata": {},
   "outputs": [],
   "source": [
    "ohio_news_result_file = \"ohio_news_results.csv\"\n",
    "ohio_news_df.to_csv(ohio_news_result_file, index=False, encoding='utf-8')"
   ]
  },
  {
   "cell_type": "code",
   "execution_count": 151,
   "metadata": {},
   "outputs": [
    {
     "data": {
      "text/plain": [
       "0.0    3199\n",
       "1.0     591\n",
       "Name: not_available, dtype: int64"
      ]
     },
     "execution_count": 151,
     "metadata": {},
     "output_type": "execute_result"
    }
   ],
   "source": [
    "ohio_news_df['not_available'].value_counts()"
   ]
  },
  {
   "cell_type": "code",
   "execution_count": 152,
   "metadata": {},
   "outputs": [
    {
     "data": {
      "text/plain": [
       "0.0    0.844063\n",
       "1.0    0.155937\n",
       "Name: not_available, dtype: float64"
      ]
     },
     "execution_count": 152,
     "metadata": {},
     "output_type": "execute_result"
    }
   ],
   "source": [
    "ohio_news_df['not_available'].value_counts(normalize=True)"
   ]
  },
  {
   "cell_type": "code",
   "execution_count": 177,
   "metadata": {},
   "outputs": [
    {
     "name": "stdout",
     "output_type": "stream",
     "text": [
      "Number of articles to be processed:  677\n",
      "Currently processing article number:  0\n"
     ]
    },
    {
     "name": "stderr",
     "output_type": "stream",
     "text": [
      "C:\\Users\\Marie CHARPIGNON\\Anaconda3\\lib\\site-packages\\PIL\\TiffImagePlugin.py:763: UserWarning: Possibly corrupt EXIF data.  Expecting to read 8 bytes but only got 0. Skipping tag 33434\n",
      "  \" Skipping tag %s\" % (size, len(data), tag))\n",
      "C:\\Users\\Marie CHARPIGNON\\Anaconda3\\lib\\site-packages\\PIL\\TiffImagePlugin.py:763: UserWarning: Possibly corrupt EXIF data.  Expecting to read 8 bytes but only got 0. Skipping tag 33437\n",
      "  \" Skipping tag %s\" % (size, len(data), tag))\n",
      "C:\\Users\\Marie CHARPIGNON\\Anaconda3\\lib\\site-packages\\PIL\\TiffImagePlugin.py:763: UserWarning: Possibly corrupt EXIF data.  Expecting to read 20 bytes but only got 0. Skipping tag 36867\n",
      "  \" Skipping tag %s\" % (size, len(data), tag))\n",
      "C:\\Users\\Marie CHARPIGNON\\Anaconda3\\lib\\site-packages\\PIL\\TiffImagePlugin.py:763: UserWarning: Possibly corrupt EXIF data.  Expecting to read 20 bytes but only got 0. Skipping tag 36868\n",
      "  \" Skipping tag %s\" % (size, len(data), tag))\n",
      "C:\\Users\\Marie CHARPIGNON\\Anaconda3\\lib\\site-packages\\PIL\\TiffImagePlugin.py:763: UserWarning: Possibly corrupt EXIF data.  Expecting to read 7 bytes but only got 0. Skipping tag 36880\n",
      "  \" Skipping tag %s\" % (size, len(data), tag))\n",
      "C:\\Users\\Marie CHARPIGNON\\Anaconda3\\lib\\site-packages\\PIL\\TiffImagePlugin.py:763: UserWarning: Possibly corrupt EXIF data.  Expecting to read 7 bytes but only got 0. Skipping tag 36881\n",
      "  \" Skipping tag %s\" % (size, len(data), tag))\n",
      "C:\\Users\\Marie CHARPIGNON\\Anaconda3\\lib\\site-packages\\PIL\\TiffImagePlugin.py:763: UserWarning: Possibly corrupt EXIF data.  Expecting to read 7 bytes but only got 0. Skipping tag 36882\n",
      "  \" Skipping tag %s\" % (size, len(data), tag))\n",
      "C:\\Users\\Marie CHARPIGNON\\Anaconda3\\lib\\site-packages\\PIL\\TiffImagePlugin.py:763: UserWarning: Possibly corrupt EXIF data.  Expecting to read 8 bytes but only got 0. Skipping tag 37377\n",
      "  \" Skipping tag %s\" % (size, len(data), tag))\n",
      "C:\\Users\\Marie CHARPIGNON\\Anaconda3\\lib\\site-packages\\PIL\\TiffImagePlugin.py:763: UserWarning: Possibly corrupt EXIF data.  Expecting to read 8 bytes but only got 0. Skipping tag 37378\n",
      "  \" Skipping tag %s\" % (size, len(data), tag))\n",
      "C:\\Users\\Marie CHARPIGNON\\Anaconda3\\lib\\site-packages\\PIL\\TiffImagePlugin.py:763: UserWarning: Possibly corrupt EXIF data.  Expecting to read 8 bytes but only got 0. Skipping tag 37380\n",
      "  \" Skipping tag %s\" % (size, len(data), tag))\n",
      "C:\\Users\\Marie CHARPIGNON\\Anaconda3\\lib\\site-packages\\PIL\\TiffImagePlugin.py:763: UserWarning: Possibly corrupt EXIF data.  Expecting to read 8 bytes but only got 0. Skipping tag 37381\n",
      "  \" Skipping tag %s\" % (size, len(data), tag))\n",
      "C:\\Users\\Marie CHARPIGNON\\Anaconda3\\lib\\site-packages\\PIL\\TiffImagePlugin.py:780: UserWarning: Corrupt EXIF data.  Expecting to read 12 bytes but only got 6. \n",
      "  warnings.warn(str(msg))\n",
      "C:\\Users\\Marie CHARPIGNON\\Anaconda3\\lib\\site-packages\\PIL\\TiffImagePlugin.py:780: UserWarning: Corrupt EXIF data.  Expecting to read 12 bytes but only got 10. \n",
      "  warnings.warn(str(msg))\n",
      "C:\\Users\\Marie CHARPIGNON\\Anaconda3\\lib\\site-packages\\PIL\\TiffImagePlugin.py:780: UserWarning: Corrupt EXIF data.  Expecting to read 2 bytes but only got 0. \n",
      "  warnings.warn(str(msg))\n"
     ]
    },
    {
     "name": "stdout",
     "output_type": "stream",
     "text": [
      "Currently processing article number:  100\n"
     ]
    },
    {
     "name": "stderr",
     "output_type": "stream",
     "text": [
      "C:\\Users\\Marie CHARPIGNON\\Anaconda3\\lib\\site-packages\\PIL\\TiffImagePlugin.py:763: UserWarning: Possibly corrupt EXIF data.  Expecting to read 8 bytes but only got 0. Skipping tag 37386\n",
      "  \" Skipping tag %s\" % (size, len(data), tag))\n"
     ]
    },
    {
     "name": "stdout",
     "output_type": "stream",
     "text": [
      "Currently processing article number:  200\n",
      "Currently processing article number:  300\n",
      "Currently processing article number:  400\n"
     ]
    },
    {
     "name": "stderr",
     "output_type": "stream",
     "text": [
      "C:\\Users\\Marie CHARPIGNON\\Anaconda3\\lib\\site-packages\\PIL\\TiffImagePlugin.py:763: UserWarning: Possibly corrupt EXIF data.  Expecting to read 264 bytes but only got 0. Skipping tag 37510\n",
      "  \" Skipping tag %s\" % (size, len(data), tag))\n"
     ]
    },
    {
     "name": "stdout",
     "output_type": "stream",
     "text": [
      "Currently processing article number:  500\n",
      "Currently processing article number:  600\n"
     ]
    }
   ],
   "source": [
    "# Oklahoma\n",
    "print('Number of articles to be processed: ', oklahoma_news_size)\n",
    "\n",
    "for i in range(oklahoma_news_size):\n",
    "    # Where are we?\n",
    "    if i%100 == 0:\n",
    "        print('Currently processing article number: ', i)\n",
    "    # Load article    \n",
    "    url = oklahoma_news_df.loc[i,\"url\"] \n",
    "    article = Article(url.strip())\n",
    "    \n",
    "    # Extract the text\n",
    "    try:\n",
    "        article.download()\n",
    "        article.parse()\n",
    "        text = article.text\n",
    "        \n",
    "        oklahoma_news_df.loc[i,\"text\"] = text.replace('\\n\\n', ' ')  \n",
    "        oklahoma_news_df.loc[i,\"not_available\"] = 0\n",
    "    \n",
    "    # Otherwise, indicate as not available\n",
    "    except:\n",
    "        oklahoma_news_df.loc[i,\"text\"] = \"NA\"\n",
    "        oklahoma_news_df.loc[i,\"not_available\"] = 1\n",
    "        continue "
   ]
  },
  {
   "cell_type": "code",
   "execution_count": 178,
   "metadata": {},
   "outputs": [],
   "source": [
    "oklahoma_news_result_file = \"oklahoma_news_results.csv\"\n",
    "oklahoma_news_df.to_csv(oklahoma_news_result_file, index=False, encoding='utf-8')"
   ]
  },
  {
   "cell_type": "code",
   "execution_count": 179,
   "metadata": {},
   "outputs": [
    {
     "data": {
      "text/plain": [
       "0.0    669\n",
       "1.0      8\n",
       "Name: not_available, dtype: int64"
      ]
     },
     "execution_count": 179,
     "metadata": {},
     "output_type": "execute_result"
    }
   ],
   "source": [
    "oklahoma_news_df['not_available'].value_counts()"
   ]
  },
  {
   "cell_type": "code",
   "execution_count": 180,
   "metadata": {},
   "outputs": [
    {
     "data": {
      "text/plain": [
       "0.0    0.988183\n",
       "1.0    0.011817\n",
       "Name: not_available, dtype: float64"
      ]
     },
     "execution_count": 180,
     "metadata": {},
     "output_type": "execute_result"
    }
   ],
   "source": [
    "oklahoma_news_df['not_available'].value_counts(normalize=True)"
   ]
  },
  {
   "cell_type": "code",
   "execution_count": 157,
   "metadata": {},
   "outputs": [
    {
     "name": "stdout",
     "output_type": "stream",
     "text": [
      "Number of articles to be processed:  416\n",
      "Currently processing article number:  0\n",
      "Currently processing article number:  100\n",
      "Currently processing article number:  200\n",
      "Currently processing article number:  300\n",
      "Currently processing article number:  400\n"
     ]
    }
   ],
   "source": [
    "#oregon\n",
    "print('Number of articles to be processed: ', oregon_news_size)\n",
    "\n",
    "for i in range(oregon_news_size):\n",
    "    # Where are we?\n",
    "    if i%100 == 0:\n",
    "        print('Currently processing article number: ', i)\n",
    "    # Load article    \n",
    "    url = oregon_news_df.loc[i,\"url\"] \n",
    "    article = Article(url.strip())\n",
    "    \n",
    "    # Extract the text\n",
    "    try:\n",
    "        article.download()\n",
    "        article.parse()\n",
    "        text = article.text\n",
    "        \n",
    "        oregon_news_df.loc[i,\"text\"] = text.replace('\\n\\n', ' ')  \n",
    "        oregon_news_df.loc[i,\"not_available\"] = 0\n",
    "    \n",
    "    # Otherwise, indicate as not available\n",
    "    except:\n",
    "        oregon_news_df.loc[i,\"text\"] = \"NA\"\n",
    "        oregon_news_df.loc[i,\"not_available\"] = 1\n",
    "        continue "
   ]
  },
  {
   "cell_type": "code",
   "execution_count": 158,
   "metadata": {},
   "outputs": [],
   "source": [
    "oregon_news_result_file = \"oregon_news_results.csv\"\n",
    "oregon_news_df.to_csv(oregon_news_result_file, index=False, encoding='utf-8')"
   ]
  },
  {
   "cell_type": "code",
   "execution_count": 159,
   "metadata": {},
   "outputs": [
    {
     "data": {
      "text/plain": [
       "0.0    356\n",
       "1.0     60\n",
       "Name: not_available, dtype: int64"
      ]
     },
     "execution_count": 159,
     "metadata": {},
     "output_type": "execute_result"
    }
   ],
   "source": [
    "oregon_news_df['not_available'].value_counts()"
   ]
  },
  {
   "cell_type": "code",
   "execution_count": 160,
   "metadata": {},
   "outputs": [
    {
     "data": {
      "text/plain": [
       "0.0    0.855769\n",
       "1.0    0.144231\n",
       "Name: not_available, dtype: float64"
      ]
     },
     "execution_count": 160,
     "metadata": {},
     "output_type": "execute_result"
    }
   ],
   "source": [
    "oregon_news_df['not_available'].value_counts(normalize=True)"
   ]
  },
  {
   "cell_type": "code",
   "execution_count": null,
   "metadata": {},
   "outputs": [],
   "source": [
    "# pennsylvania"
   ]
  },
  {
   "cell_type": "code",
   "execution_count": 194,
   "metadata": {},
   "outputs": [
    {
     "name": "stdout",
     "output_type": "stream",
     "text": [
      "Number of articles to be processed:  1238\n",
      "Currently processing article number:  0\n",
      "Currently processing article number:  100\n",
      "Currently processing article number:  200\n",
      "Currently processing article number:  300\n",
      "Currently processing article number:  400\n",
      "Currently processing article number:  500\n",
      "Currently processing article number:  600\n",
      "Currently processing article number:  700\n",
      "Currently processing article number:  800\n",
      "Currently processing article number:  900\n",
      "Currently processing article number:  1000\n",
      "Currently processing article number:  1100\n",
      "Currently processing article number:  1200\n"
     ]
    }
   ],
   "source": [
    "print('Number of articles to be processed: ', pennsylvania_news_size)\n",
    "\n",
    "for i in range(pennsylvania_news_size):\n",
    "    # Where are we?\n",
    "    if i%100 == 0:\n",
    "        print('Currently processing article number: ', i)\n",
    "    # Load article    \n",
    "    url = pennsylvania_news_df.loc[i,\"url\"] \n",
    "    article = Article(url.strip())\n",
    "    \n",
    "    # Extract the text\n",
    "    try:\n",
    "        article.download()\n",
    "        article.parse()\n",
    "        text = article.text\n",
    "        \n",
    "        pennsylvania_news_df.loc[i,\"text\"] = text.replace('\\n\\n', ' ')  \n",
    "        pennsylvania_news_df.loc[i,\"not_available\"] = 0\n",
    "    \n",
    "    # Otherwise, indicate as not available\n",
    "    except:\n",
    "        pennsylvania_news_df.loc[i,\"text\"] = \"NA\"\n",
    "        pennsylvania_news_df.loc[i,\"not_available\"] = 1\n",
    "        continue "
   ]
  },
  {
   "cell_type": "code",
   "execution_count": 195,
   "metadata": {},
   "outputs": [],
   "source": [
    "pennsylvania_news_result_file = \"pennsylvania_news_results.csv\"\n",
    "pennsylvania_news_df.to_csv(pennsylvania_news_result_file, index=False, encoding='utf-8')"
   ]
  },
  {
   "cell_type": "code",
   "execution_count": 197,
   "metadata": {},
   "outputs": [
    {
     "data": {
      "text/plain": [
       "0.0    1056\n",
       "1.0     182\n",
       "Name: not_available, dtype: int64"
      ]
     },
     "execution_count": 197,
     "metadata": {},
     "output_type": "execute_result"
    }
   ],
   "source": [
    "pennsylvania_news_df['not_available'].value_counts()"
   ]
  },
  {
   "cell_type": "code",
   "execution_count": 198,
   "metadata": {},
   "outputs": [
    {
     "data": {
      "text/plain": [
       "0.0    0.852989\n",
       "1.0    0.147011\n",
       "Name: not_available, dtype: float64"
      ]
     },
     "execution_count": 198,
     "metadata": {},
     "output_type": "execute_result"
    }
   ],
   "source": [
    "pennsylvania_news_df['not_available'].value_counts(normalize=True)"
   ]
  },
  {
   "cell_type": "code",
   "execution_count": null,
   "metadata": {},
   "outputs": [],
   "source": [
    "# rhode_island"
   ]
  },
  {
   "cell_type": "code",
   "execution_count": 199,
   "metadata": {},
   "outputs": [
    {
     "name": "stdout",
     "output_type": "stream",
     "text": [
      "Number of articles to be processed:  540\n",
      "Currently processing article number:  0\n",
      "Currently processing article number:  100\n",
      "Currently processing article number:  200\n",
      "Currently processing article number:  300\n",
      "Currently processing article number:  400\n",
      "Currently processing article number:  500\n"
     ]
    }
   ],
   "source": [
    "print('Number of articles to be processed: ', rhode_island_news_size)\n",
    "\n",
    "for i in range(rhode_island_news_size):\n",
    "    # Where are we?\n",
    "    if i%100 == 0:\n",
    "        print('Currently processing article number: ', i)\n",
    "    # Load article    \n",
    "    url = rhode_island_news_df.loc[i,\"url\"] \n",
    "    article = Article(url.strip())\n",
    "    \n",
    "    # Extract the text\n",
    "    try:\n",
    "        article.download()\n",
    "        article.parse()\n",
    "        text = article.text\n",
    "        \n",
    "        rhode_island_news_df.loc[i,\"text\"] = text.replace('\\n\\n', ' ')  \n",
    "        rhode_island_news_df.loc[i,\"not_available\"] = 0\n",
    "    \n",
    "    # Otherwise, indicate as not available\n",
    "    except:\n",
    "        rhode_island_news_df.loc[i,\"text\"] = \"NA\"\n",
    "        rhode_island_news_df.loc[i,\"not_available\"] = 1\n",
    "        continue "
   ]
  },
  {
   "cell_type": "code",
   "execution_count": 200,
   "metadata": {},
   "outputs": [],
   "source": [
    "rhode_island_news_result_file = \"rhode_island_news_results.csv\"\n",
    "rhode_island_news_df.to_csv(rhode_island_news_result_file, index=False, encoding='utf-8')"
   ]
  },
  {
   "cell_type": "code",
   "execution_count": 201,
   "metadata": {},
   "outputs": [
    {
     "data": {
      "text/plain": [
       "0.0    497\n",
       "1.0     43\n",
       "Name: not_available, dtype: int64"
      ]
     },
     "execution_count": 201,
     "metadata": {},
     "output_type": "execute_result"
    }
   ],
   "source": [
    "rhode_island_news_df['not_available'].value_counts()"
   ]
  },
  {
   "cell_type": "code",
   "execution_count": 202,
   "metadata": {},
   "outputs": [
    {
     "data": {
      "text/plain": [
       "0.0    0.92037\n",
       "1.0    0.07963\n",
       "Name: not_available, dtype: float64"
      ]
     },
     "execution_count": 202,
     "metadata": {},
     "output_type": "execute_result"
    }
   ],
   "source": [
    "rhode_island_news_df['not_available'].value_counts(normalize=True)"
   ]
  },
  {
   "cell_type": "code",
   "execution_count": null,
   "metadata": {},
   "outputs": [],
   "source": [
    "# south_carolina"
   ]
  },
  {
   "cell_type": "code",
   "execution_count": 203,
   "metadata": {},
   "outputs": [
    {
     "name": "stdout",
     "output_type": "stream",
     "text": [
      "Number of articles to be processed:  1102\n",
      "Currently processing article number:  0\n",
      "Currently processing article number:  100\n",
      "Currently processing article number:  200\n",
      "Currently processing article number:  300\n",
      "Currently processing article number:  400\n",
      "Currently processing article number:  500\n",
      "Currently processing article number:  600\n",
      "Currently processing article number:  700\n",
      "Currently processing article number:  800\n",
      "Currently processing article number:  900\n",
      "Currently processing article number:  1000\n",
      "Currently processing article number:  1100\n"
     ]
    }
   ],
   "source": [
    "print('Number of articles to be processed: ', south_carolina_news_size)\n",
    "\n",
    "for i in range(south_carolina_news_size):\n",
    "    # Where are we?\n",
    "    if i%100 == 0:\n",
    "        print('Currently processing article number: ', i)\n",
    "    # Load article    \n",
    "    url = south_carolina_news_df.loc[i,\"url\"] \n",
    "    article = Article(url.strip())\n",
    "    \n",
    "    # Extract the text\n",
    "    try:\n",
    "        article.download()\n",
    "        article.parse()\n",
    "        text = article.text\n",
    "        \n",
    "        south_carolina_news_df.loc[i,\"text\"] = text.replace('\\n\\n', ' ')  \n",
    "        south_carolina_news_df.loc[i,\"not_available\"] = 0\n",
    "    \n",
    "    # Otherwise, indicate as not available\n",
    "    except:\n",
    "        south_carolina_news_df.loc[i,\"text\"] = \"NA\"\n",
    "        south_carolina_news_df.loc[i,\"not_available\"] = 1\n",
    "        continue "
   ]
  },
  {
   "cell_type": "code",
   "execution_count": 204,
   "metadata": {},
   "outputs": [],
   "source": [
    "south_carolina_news_result_file = \"south_carolina_news_results.csv\"\n",
    "south_carolina_news_df.to_csv(south_carolina_news_result_file, index=False, encoding='utf-8')"
   ]
  },
  {
   "cell_type": "code",
   "execution_count": 206,
   "metadata": {},
   "outputs": [
    {
     "data": {
      "text/plain": [
       "0.0    1031\n",
       "1.0      71\n",
       "Name: not_available, dtype: int64"
      ]
     },
     "execution_count": 206,
     "metadata": {},
     "output_type": "execute_result"
    }
   ],
   "source": [
    "south_carolina_news_df['not_available'].value_counts()"
   ]
  },
  {
   "cell_type": "code",
   "execution_count": 207,
   "metadata": {},
   "outputs": [
    {
     "data": {
      "text/plain": [
       "0.0    0.935572\n",
       "1.0    0.064428\n",
       "Name: not_available, dtype: float64"
      ]
     },
     "execution_count": 207,
     "metadata": {},
     "output_type": "execute_result"
    }
   ],
   "source": [
    "south_carolina_news_df['not_available'].value_counts(normalize=True)"
   ]
  },
  {
   "cell_type": "code",
   "execution_count": null,
   "metadata": {},
   "outputs": [],
   "source": [
    "# south_dakota"
   ]
  },
  {
   "cell_type": "code",
   "execution_count": 208,
   "metadata": {},
   "outputs": [
    {
     "name": "stdout",
     "output_type": "stream",
     "text": [
      "Number of articles to be processed:  346\n",
      "Currently processing article number:  0\n",
      "Currently processing article number:  100\n",
      "Currently processing article number:  200\n",
      "Currently processing article number:  300\n"
     ]
    }
   ],
   "source": [
    "print('Number of articles to be processed: ', south_dakota_news_size)\n",
    "\n",
    "for i in range(south_dakota_news_size):\n",
    "    # Where are we?\n",
    "    if i%100 == 0:\n",
    "        print('Currently processing article number: ', i)\n",
    "    # Load article    \n",
    "    url = south_dakota_news_df.loc[i,\"url\"] \n",
    "    article = Article(url.strip())\n",
    "    \n",
    "    # Extract the text\n",
    "    try:\n",
    "        article.download()\n",
    "        article.parse()\n",
    "        text = article.text\n",
    "        \n",
    "        south_dakota_news_df.loc[i,\"text\"] = text.replace('\\n\\n', ' ')  \n",
    "        south_dakota_news_df.loc[i,\"not_available\"] = 0\n",
    "    \n",
    "    # Otherwise, indicate as not available\n",
    "    except:\n",
    "        south_dakota_news_df.loc[i,\"text\"] = \"NA\"\n",
    "        south_dakota_news_df.loc[i,\"not_available\"] = 1\n",
    "        continue "
   ]
  },
  {
   "cell_type": "code",
   "execution_count": 209,
   "metadata": {},
   "outputs": [],
   "source": [
    "south_dakota_news_result_file = \"south_dakota_news_results.csv\"\n",
    "south_dakota_news_df.to_csv(south_dakota_news_result_file, index=False, encoding='utf-8')"
   ]
  },
  {
   "cell_type": "code",
   "execution_count": 210,
   "metadata": {},
   "outputs": [
    {
     "data": {
      "text/plain": [
       "0.0    296\n",
       "1.0     50\n",
       "Name: not_available, dtype: int64"
      ]
     },
     "execution_count": 210,
     "metadata": {},
     "output_type": "execute_result"
    }
   ],
   "source": [
    "south_dakota_news_df['not_available'].value_counts()"
   ]
  },
  {
   "cell_type": "code",
   "execution_count": 211,
   "metadata": {},
   "outputs": [
    {
     "data": {
      "text/plain": [
       "0.0    0.855491\n",
       "1.0    0.144509\n",
       "Name: not_available, dtype: float64"
      ]
     },
     "execution_count": 211,
     "metadata": {},
     "output_type": "execute_result"
    }
   ],
   "source": [
    "south_dakota_news_df['not_available'].value_counts(normalize=True)"
   ]
  },
  {
   "cell_type": "code",
   "execution_count": null,
   "metadata": {},
   "outputs": [],
   "source": [
    "# tennessee"
   ]
  },
  {
   "cell_type": "code",
   "execution_count": 212,
   "metadata": {},
   "outputs": [
    {
     "name": "stdout",
     "output_type": "stream",
     "text": [
      "Number of articles to be processed:  709\n",
      "Currently processing article number:  0\n",
      "Currently processing article number:  100\n",
      "Currently processing article number:  200\n",
      "Currently processing article number:  300\n",
      "Currently processing article number:  400\n",
      "Currently processing article number:  500\n",
      "Currently processing article number:  600\n",
      "Currently processing article number:  700\n"
     ]
    }
   ],
   "source": [
    "print('Number of articles to be processed: ', tennessee_news_size)\n",
    "\n",
    "for i in range(tennessee_news_size):\n",
    "    # Where are we?\n",
    "    if i%100 == 0:\n",
    "        print('Currently processing article number: ', i)\n",
    "    # Load article    \n",
    "    url = tennessee_news_df.loc[i,\"url\"] \n",
    "    article = Article(url.strip())\n",
    "    \n",
    "    # Extract the text\n",
    "    try:\n",
    "        article.download()\n",
    "        article.parse()\n",
    "        text = article.text\n",
    "        \n",
    "        tennessee_news_df.loc[i,\"text\"] = text.replace('\\n\\n', ' ')  \n",
    "        tennessee_news_df.loc[i,\"not_available\"] = 0\n",
    "    \n",
    "    # Otherwise, indicate as not available\n",
    "    except:\n",
    "        tennessee_news_df.loc[i,\"text\"] = \"NA\"\n",
    "        tennessee_news_df.loc[i,\"not_available\"] = 1\n",
    "        continue "
   ]
  },
  {
   "cell_type": "code",
   "execution_count": 213,
   "metadata": {},
   "outputs": [],
   "source": [
    "tennessee_news_result_file = \"tennessee_news_results.csv\"\n",
    "tennessee_news_df.to_csv(tennessee_news_result_file, index=False, encoding='utf-8')"
   ]
  },
  {
   "cell_type": "code",
   "execution_count": 214,
   "metadata": {},
   "outputs": [
    {
     "data": {
      "text/plain": [
       "0.0    671\n",
       "1.0     38\n",
       "Name: not_available, dtype: int64"
      ]
     },
     "execution_count": 214,
     "metadata": {},
     "output_type": "execute_result"
    }
   ],
   "source": [
    "tennessee_news_df['not_available'].value_counts()"
   ]
  },
  {
   "cell_type": "code",
   "execution_count": 215,
   "metadata": {},
   "outputs": [
    {
     "data": {
      "text/plain": [
       "0.0    0.946403\n",
       "1.0    0.053597\n",
       "Name: not_available, dtype: float64"
      ]
     },
     "execution_count": 215,
     "metadata": {},
     "output_type": "execute_result"
    }
   ],
   "source": [
    "tennessee_news_df['not_available'].value_counts(normalize=True)"
   ]
  },
  {
   "cell_type": "code",
   "execution_count": null,
   "metadata": {},
   "outputs": [],
   "source": [
    "# texas"
   ]
  },
  {
   "cell_type": "code",
   "execution_count": 216,
   "metadata": {},
   "outputs": [
    {
     "name": "stdout",
     "output_type": "stream",
     "text": [
      "Number of articles to be processed:  4184\n",
      "Currently processing article number:  0\n",
      "Currently processing article number:  100\n",
      "Currently processing article number:  200\n",
      "Currently processing article number:  300\n",
      "Currently processing article number:  400\n",
      "Currently processing article number:  500\n",
      "Currently processing article number:  600\n",
      "Currently processing article number:  700\n",
      "Currently processing article number:  800\n",
      "Currently processing article number:  900\n",
      "Currently processing article number:  1000\n",
      "Currently processing article number:  1100\n",
      "Currently processing article number:  1200\n",
      "Currently processing article number:  1300\n",
      "Currently processing article number:  1400\n",
      "Currently processing article number:  1500\n",
      "Currently processing article number:  1600\n",
      "Currently processing article number:  1700\n",
      "Currently processing article number:  1800\n",
      "Currently processing article number:  1900\n",
      "Currently processing article number:  2000\n",
      "Currently processing article number:  2100\n",
      "Currently processing article number:  2200\n",
      "Currently processing article number:  2300\n",
      "Currently processing article number:  2400\n",
      "Currently processing article number:  2500\n",
      "Currently processing article number:  2600\n",
      "Currently processing article number:  2700\n",
      "Currently processing article number:  2800\n",
      "Currently processing article number:  2900\n",
      "Currently processing article number:  3000\n",
      "Currently processing article number:  3100\n",
      "Currently processing article number:  3200\n",
      "Currently processing article number:  3300\n",
      "Currently processing article number:  3400\n",
      "Currently processing article number:  3500\n",
      "Currently processing article number:  3600\n",
      "Currently processing article number:  3700\n",
      "Currently processing article number:  3800\n",
      "Currently processing article number:  3900\n",
      "Currently processing article number:  4000\n",
      "Currently processing article number:  4100\n"
     ]
    }
   ],
   "source": [
    "print('Number of articles to be processed: ', texas_news_size)\n",
    "\n",
    "for i in range(texas_news_size):\n",
    "    # Where are we?\n",
    "    if i%100 == 0:\n",
    "        print('Currently processing article number: ', i)\n",
    "    # Load article    \n",
    "    url = texas_news_df.loc[i,\"url\"] \n",
    "    article = Article(url.strip())\n",
    "    \n",
    "    # Extract the text\n",
    "    try:\n",
    "        article.download()\n",
    "        article.parse()\n",
    "        text = article.text\n",
    "        \n",
    "        texas_news_df.loc[i,\"text\"] = text.replace('\\n\\n', ' ')  \n",
    "        texas_news_df.loc[i,\"not_available\"] = 0\n",
    "    \n",
    "    # Otherwise, indicate as not available\n",
    "    except:\n",
    "        texas_news_df.loc[i,\"text\"] = \"NA\"\n",
    "        texas_news_df.loc[i,\"not_available\"] = 1\n",
    "        continue "
   ]
  },
  {
   "cell_type": "code",
   "execution_count": 217,
   "metadata": {},
   "outputs": [],
   "source": [
    "texas_news_result_file = \"texas_news_results.csv\"\n",
    "texas_news_df.to_csv(texas_news_result_file, index=False, encoding='utf-8')"
   ]
  },
  {
   "cell_type": "code",
   "execution_count": 218,
   "metadata": {},
   "outputs": [
    {
     "data": {
      "text/plain": [
       "0.0    3902\n",
       "1.0     282\n",
       "Name: not_available, dtype: int64"
      ]
     },
     "execution_count": 218,
     "metadata": {},
     "output_type": "execute_result"
    }
   ],
   "source": [
    "texas_news_df['not_available'].value_counts()"
   ]
  },
  {
   "cell_type": "code",
   "execution_count": 219,
   "metadata": {},
   "outputs": [
    {
     "data": {
      "text/plain": [
       "0.0    0.9326\n",
       "1.0    0.0674\n",
       "Name: not_available, dtype: float64"
      ]
     },
     "execution_count": 219,
     "metadata": {},
     "output_type": "execute_result"
    }
   ],
   "source": [
    "texas_news_df['not_available'].value_counts(normalize=True)"
   ]
  },
  {
   "cell_type": "code",
   "execution_count": null,
   "metadata": {},
   "outputs": [],
   "source": [
    "# utah"
   ]
  },
  {
   "cell_type": "code",
   "execution_count": 220,
   "metadata": {},
   "outputs": [
    {
     "name": "stdout",
     "output_type": "stream",
     "text": [
      "Number of articles to be processed:  442\n",
      "Currently processing article number:  0\n",
      "Currently processing article number:  100\n",
      "Currently processing article number:  200\n",
      "Currently processing article number:  300\n",
      "Currently processing article number:  400\n"
     ]
    }
   ],
   "source": [
    "print('Number of articles to be processed: ', utah_news_size)\n",
    "\n",
    "for i in range(utah_news_size):\n",
    "    # Where are we?\n",
    "    if i%100 == 0:\n",
    "        print('Currently processing article number: ', i)\n",
    "    # Load article    \n",
    "    url = utah_news_df.loc[i,\"url\"] \n",
    "    article = Article(url.strip())\n",
    "    \n",
    "    # Extract the text\n",
    "    try:\n",
    "        article.download()\n",
    "        article.parse()\n",
    "        text = article.text\n",
    "        \n",
    "        utah_news_df.loc[i,\"text\"] = text.replace('\\n\\n', ' ')  \n",
    "        utah_news_df.loc[i,\"not_available\"] = 0\n",
    "    \n",
    "    # Otherwise, indicate as not available\n",
    "    except:\n",
    "        utah_news_df.loc[i,\"text\"] = \"NA\"\n",
    "        utah_news_df.loc[i,\"not_available\"] = 1\n",
    "        continue "
   ]
  },
  {
   "cell_type": "code",
   "execution_count": 221,
   "metadata": {},
   "outputs": [],
   "source": [
    "utah_news_result_file = \"utah_news_results.csv\"\n",
    "utah_news_df.to_csv(utah_news_result_file, index=False, encoding='utf-8')"
   ]
  },
  {
   "cell_type": "code",
   "execution_count": 222,
   "metadata": {},
   "outputs": [
    {
     "data": {
      "text/plain": [
       "0.0    385\n",
       "1.0     57\n",
       "Name: not_available, dtype: int64"
      ]
     },
     "execution_count": 222,
     "metadata": {},
     "output_type": "execute_result"
    }
   ],
   "source": [
    "utah_news_df['not_available'].value_counts()"
   ]
  },
  {
   "cell_type": "code",
   "execution_count": 223,
   "metadata": {},
   "outputs": [
    {
     "data": {
      "text/plain": [
       "0.0    0.871041\n",
       "1.0    0.128959\n",
       "Name: not_available, dtype: float64"
      ]
     },
     "execution_count": 223,
     "metadata": {},
     "output_type": "execute_result"
    }
   ],
   "source": [
    "utah_news_df['not_available'].value_counts(normalize=True)"
   ]
  },
  {
   "cell_type": "code",
   "execution_count": null,
   "metadata": {},
   "outputs": [],
   "source": [
    "# vermont"
   ]
  },
  {
   "cell_type": "code",
   "execution_count": 224,
   "metadata": {},
   "outputs": [
    {
     "name": "stdout",
     "output_type": "stream",
     "text": [
      "Number of articles to be processed:  81\n",
      "Currently processing article number:  0\n"
     ]
    }
   ],
   "source": [
    "print('Number of articles to be processed: ', vermont_news_size)\n",
    "\n",
    "for i in range(vermont_news_size):\n",
    "    # Where are we?\n",
    "    if i%100 == 0:\n",
    "        print('Currently processing article number: ', i)\n",
    "    # Load article    \n",
    "    url = vermont_news_df.loc[i,\"url\"] \n",
    "    article = Article(url.strip())\n",
    "    \n",
    "    # Extract the text\n",
    "    try:\n",
    "        article.download()\n",
    "        article.parse()\n",
    "        text = article.text\n",
    "        \n",
    "        vermont_news_df.loc[i,\"text\"] = text.replace('\\n\\n', ' ')  \n",
    "        vermont_news_df.loc[i,\"not_available\"] = 0\n",
    "    \n",
    "    # Otherwise, indicate as not available\n",
    "    except:\n",
    "        vermont_news_df.loc[i,\"text\"] = \"NA\"\n",
    "        vermont_news_df.loc[i,\"not_available\"] = 1\n",
    "        continue "
   ]
  },
  {
   "cell_type": "code",
   "execution_count": 225,
   "metadata": {},
   "outputs": [],
   "source": [
    "vermont_news_result_file = \"vermont_news_results.csv\"\n",
    "vermont_news_df.to_csv(vermont_news_result_file, index=False, encoding='utf-8')"
   ]
  },
  {
   "cell_type": "code",
   "execution_count": 226,
   "metadata": {},
   "outputs": [
    {
     "data": {
      "text/plain": [
       "0.0    67\n",
       "1.0    14\n",
       "Name: not_available, dtype: int64"
      ]
     },
     "execution_count": 226,
     "metadata": {},
     "output_type": "execute_result"
    }
   ],
   "source": [
    "vermont_news_df['not_available'].value_counts()"
   ]
  },
  {
   "cell_type": "code",
   "execution_count": 227,
   "metadata": {},
   "outputs": [
    {
     "data": {
      "text/plain": [
       "0.0    0.82716\n",
       "1.0    0.17284\n",
       "Name: not_available, dtype: float64"
      ]
     },
     "execution_count": 227,
     "metadata": {},
     "output_type": "execute_result"
    }
   ],
   "source": [
    "vermont_news_df['not_available'].value_counts(normalize=True)"
   ]
  },
  {
   "cell_type": "code",
   "execution_count": null,
   "metadata": {},
   "outputs": [],
   "source": [
    "# virginia"
   ]
  },
  {
   "cell_type": "code",
   "execution_count": 228,
   "metadata": {},
   "outputs": [
    {
     "name": "stdout",
     "output_type": "stream",
     "text": [
      "Number of articles to be processed:  700\n",
      "Currently processing article number:  0\n",
      "Currently processing article number:  100\n",
      "Currently processing article number:  200\n",
      "Currently processing article number:  300\n",
      "Currently processing article number:  400\n",
      "Currently processing article number:  500\n",
      "Currently processing article number:  600\n"
     ]
    }
   ],
   "source": [
    "print('Number of articles to be processed: ', virginia_news_size)\n",
    "\n",
    "for i in range(virginia_news_size):\n",
    "    # Where are we?\n",
    "    if i%100 == 0:\n",
    "        print('Currently processing article number: ', i)\n",
    "    # Load article    \n",
    "    url = virginia_news_df.loc[i,\"url\"] \n",
    "    article = Article(url.strip())\n",
    "    \n",
    "    # Extract the text\n",
    "    try:\n",
    "        article.download()\n",
    "        article.parse()\n",
    "        text = article.text\n",
    "        \n",
    "        virginia_news_df.loc[i,\"text\"] = text.replace('\\n\\n', ' ')  \n",
    "        virginia_news_df.loc[i,\"not_available\"] = 0\n",
    "    \n",
    "    # Otherwise, indicate as not available\n",
    "    except:\n",
    "        virginia_news_df.loc[i,\"text\"] = \"NA\"\n",
    "        virginia_news_df.loc[i,\"not_available\"] = 1\n",
    "        continue "
   ]
  },
  {
   "cell_type": "code",
   "execution_count": 229,
   "metadata": {},
   "outputs": [],
   "source": [
    "virginia_news_result_file = \"virginia_news_results.csv\"\n",
    "virginia_news_df.to_csv(virginia_news_result_file, index=False, encoding='utf-8')"
   ]
  },
  {
   "cell_type": "code",
   "execution_count": 231,
   "metadata": {},
   "outputs": [
    {
     "data": {
      "text/plain": [
       "0.0    608\n",
       "1.0     92\n",
       "Name: not_available, dtype: int64"
      ]
     },
     "execution_count": 231,
     "metadata": {},
     "output_type": "execute_result"
    }
   ],
   "source": [
    "virginia_news_df['not_available'].value_counts()"
   ]
  },
  {
   "cell_type": "code",
   "execution_count": 232,
   "metadata": {},
   "outputs": [
    {
     "data": {
      "text/plain": [
       "0.0    0.868571\n",
       "1.0    0.131429\n",
       "Name: not_available, dtype: float64"
      ]
     },
     "execution_count": 232,
     "metadata": {},
     "output_type": "execute_result"
    }
   ],
   "source": [
    "virginia_news_df['not_available'].value_counts(normalize=True)"
   ]
  },
  {
   "cell_type": "code",
   "execution_count": null,
   "metadata": {},
   "outputs": [],
   "source": [
    "# washington"
   ]
  },
  {
   "cell_type": "code",
   "execution_count": 233,
   "metadata": {},
   "outputs": [
    {
     "name": "stdout",
     "output_type": "stream",
     "text": [
      "Number of articles to be processed:  1251\n",
      "Currently processing article number:  0\n",
      "Currently processing article number:  100\n",
      "Currently processing article number:  200\n",
      "Currently processing article number:  300\n",
      "Currently processing article number:  400\n",
      "Currently processing article number:  500\n",
      "Currently processing article number:  600\n",
      "Currently processing article number:  700\n",
      "Currently processing article number:  800\n",
      "Currently processing article number:  900\n",
      "Currently processing article number:  1000\n",
      "Currently processing article number:  1100\n",
      "Currently processing article number:  1200\n"
     ]
    }
   ],
   "source": [
    "print('Number of articles to be processed: ', washington_news_size)\n",
    "\n",
    "for i in range(washington_news_size):\n",
    "    # Where are we?\n",
    "    if i%100 == 0:\n",
    "        print('Currently processing article number: ', i)\n",
    "    # Load article    \n",
    "    url = washington_news_df.loc[i,\"url\"] \n",
    "    article = Article(url.strip())\n",
    "    \n",
    "    # Extract the text\n",
    "    try:\n",
    "        article.download()\n",
    "        article.parse()\n",
    "        text = article.text\n",
    "        \n",
    "        washington_news_df.loc[i,\"text\"] = text.replace('\\n\\n', ' ')  \n",
    "        washington_news_df.loc[i,\"not_available\"] = 0\n",
    "    \n",
    "    # Otherwise, indicate as not available\n",
    "    except:\n",
    "        washington_news_df.loc[i,\"text\"] = \"NA\"\n",
    "        washington_news_df.loc[i,\"not_available\"] = 1\n",
    "        continue "
   ]
  },
  {
   "cell_type": "code",
   "execution_count": 234,
   "metadata": {},
   "outputs": [],
   "source": [
    "washington_news_result_file = \"washington_news_results.csv\"\n",
    "washington_news_df.to_csv(washington_news_result_file, index=False, encoding='utf-8')"
   ]
  },
  {
   "cell_type": "code",
   "execution_count": 235,
   "metadata": {},
   "outputs": [
    {
     "data": {
      "text/plain": [
       "0.0    866\n",
       "1.0    385\n",
       "Name: not_available, dtype: int64"
      ]
     },
     "execution_count": 235,
     "metadata": {},
     "output_type": "execute_result"
    }
   ],
   "source": [
    "washington_news_df['not_available'].value_counts()"
   ]
  },
  {
   "cell_type": "code",
   "execution_count": 236,
   "metadata": {},
   "outputs": [
    {
     "data": {
      "text/plain": [
       "0.0    0.692246\n",
       "1.0    0.307754\n",
       "Name: not_available, dtype: float64"
      ]
     },
     "execution_count": 236,
     "metadata": {},
     "output_type": "execute_result"
    }
   ],
   "source": [
    "washington_news_df['not_available'].value_counts(normalize=True)"
   ]
  },
  {
   "cell_type": "code",
   "execution_count": null,
   "metadata": {},
   "outputs": [],
   "source": [
    "# west virginia"
   ]
  },
  {
   "cell_type": "code",
   "execution_count": 237,
   "metadata": {},
   "outputs": [
    {
     "name": "stdout",
     "output_type": "stream",
     "text": [
      "Number of articles to be processed:  337\n",
      "Currently processing article number:  0\n",
      "Currently processing article number:  100\n",
      "Currently processing article number:  200\n",
      "Currently processing article number:  300\n"
     ]
    }
   ],
   "source": [
    "print('Number of articles to be processed: ', west_virginia_news_size)\n",
    "\n",
    "for i in range(west_virginia_news_size):\n",
    "    # Where are we?\n",
    "    if i%100 == 0:\n",
    "        print('Currently processing article number: ', i)\n",
    "    # Load article    \n",
    "    url = west_virginia_news_df.loc[i,\"url\"] \n",
    "    article = Article(url.strip())\n",
    "    \n",
    "    # Extract the text\n",
    "    try:\n",
    "        article.download()\n",
    "        article.parse()\n",
    "        text = article.text\n",
    "        \n",
    "        west_virginia_news_df.loc[i,\"text\"] = text.replace('\\n\\n', ' ')  \n",
    "        west_virginia_news_df.loc[i,\"not_available\"] = 0\n",
    "    \n",
    "    # Otherwise, indicate as not available\n",
    "    except:\n",
    "        west_virginia_news_df.loc[i,\"text\"] = \"NA\"\n",
    "        west_virginia_news_df.loc[i,\"not_available\"] = 1\n",
    "        continue "
   ]
  },
  {
   "cell_type": "code",
   "execution_count": 238,
   "metadata": {},
   "outputs": [],
   "source": [
    "west_virginia_news_result_file = \"west_virginia_news_results.csv\"\n",
    "west_virginia_news_df.to_csv(west_virginia_news_result_file, index=False, encoding='utf-8')"
   ]
  },
  {
   "cell_type": "code",
   "execution_count": 239,
   "metadata": {},
   "outputs": [
    {
     "data": {
      "text/plain": [
       "0.0    256\n",
       "1.0     81\n",
       "Name: not_available, dtype: int64"
      ]
     },
     "execution_count": 239,
     "metadata": {},
     "output_type": "execute_result"
    }
   ],
   "source": [
    "west_virginia_news_df['not_available'].value_counts()"
   ]
  },
  {
   "cell_type": "code",
   "execution_count": 240,
   "metadata": {},
   "outputs": [
    {
     "data": {
      "text/plain": [
       "0.0    0.759644\n",
       "1.0    0.240356\n",
       "Name: not_available, dtype: float64"
      ]
     },
     "execution_count": 240,
     "metadata": {},
     "output_type": "execute_result"
    }
   ],
   "source": [
    "west_virginia_news_df['not_available'].value_counts(normalize=True)"
   ]
  },
  {
   "cell_type": "code",
   "execution_count": null,
   "metadata": {},
   "outputs": [],
   "source": [
    "# wisconsin"
   ]
  },
  {
   "cell_type": "code",
   "execution_count": 246,
   "metadata": {},
   "outputs": [
    {
     "name": "stdout",
     "output_type": "stream",
     "text": [
      "Number of articles to be processed:  2111\n",
      "Currently processing article number:  0\n",
      "Currently processing article number:  100\n",
      "Currently processing article number:  200\n",
      "Currently processing article number:  300\n",
      "Currently processing article number:  400\n",
      "Currently processing article number:  500\n",
      "Currently processing article number:  600\n",
      "Currently processing article number:  700\n",
      "Currently processing article number:  800\n",
      "Currently processing article number:  900\n",
      "Currently processing article number:  1000\n",
      "Currently processing article number:  1100\n",
      "Currently processing article number:  1200\n",
      "Currently processing article number:  1300\n",
      "Currently processing article number:  1400\n",
      "Currently processing article number:  1500\n",
      "Currently processing article number:  1600\n",
      "Currently processing article number:  1700\n",
      "Currently processing article number:  1800\n",
      "Currently processing article number:  1900\n",
      "Currently processing article number:  2000\n",
      "Currently processing article number:  2100\n"
     ]
    }
   ],
   "source": [
    "print('Number of articles to be processed: ', wisconsin_news_size)\n",
    "\n",
    "for i in range(wisconsin_news_size):\n",
    "    # Where are we?\n",
    "    if i%100 == 0:\n",
    "        print('Currently processing article number: ', i)\n",
    "    # Load article    \n",
    "    url = wisconsin_news_df.loc[i,\"url\"] \n",
    "    article = Article(url.strip())\n",
    "    \n",
    "    # Extract the text\n",
    "    try:\n",
    "        article.download()\n",
    "        article.parse()\n",
    "        text = article.text\n",
    "        \n",
    "        wisconsin_news_df.loc[i,\"text\"] = text.replace('\\n\\n', ' ')  \n",
    "        wisconsin_news_df.loc[i,\"not_available\"] = 0\n",
    "    \n",
    "    # Otherwise, indicate as not available\n",
    "    except:\n",
    "        wisconsin_news_df.loc[i,\"text\"] = \"NA\"\n",
    "        wisconsin_news_df.loc[i,\"not_available\"] = 1\n",
    "        continue "
   ]
  },
  {
   "cell_type": "code",
   "execution_count": 247,
   "metadata": {},
   "outputs": [],
   "source": [
    "wisconsin_news_result_file = \"wisconsin_news_results.csv\"\n",
    "wisconsin_news_df.to_csv(wisconsin_news_result_file, index=False, encoding='utf-8')"
   ]
  },
  {
   "cell_type": "code",
   "execution_count": 248,
   "metadata": {},
   "outputs": [
    {
     "data": {
      "text/plain": [
       "0.0    2026\n",
       "1.0      85\n",
       "Name: not_available, dtype: int64"
      ]
     },
     "execution_count": 248,
     "metadata": {},
     "output_type": "execute_result"
    }
   ],
   "source": [
    "wisconsin_news_df['not_available'].value_counts()"
   ]
  },
  {
   "cell_type": "code",
   "execution_count": 249,
   "metadata": {},
   "outputs": [
    {
     "data": {
      "text/plain": [
       "0.0    0.959735\n",
       "1.0    0.040265\n",
       "Name: not_available, dtype: float64"
      ]
     },
     "execution_count": 249,
     "metadata": {},
     "output_type": "execute_result"
    }
   ],
   "source": [
    "wisconsin_news_df['not_available'].value_counts(normalize=True)"
   ]
  },
  {
   "cell_type": "code",
   "execution_count": null,
   "metadata": {},
   "outputs": [],
   "source": [
    "# wyoming"
   ]
  },
  {
   "cell_type": "code",
   "execution_count": 241,
   "metadata": {},
   "outputs": [
    {
     "name": "stdout",
     "output_type": "stream",
     "text": [
      "Number of articles to be processed:  139\n",
      "Currently processing article number:  0\n",
      "Currently processing article number:  100\n"
     ]
    }
   ],
   "source": [
    "print('Number of articles to be processed: ', wyoming_news_size)\n",
    "\n",
    "for i in range(wyoming_news_size):\n",
    "    # Where are we?\n",
    "    if i%100 == 0:\n",
    "        print('Currently processing article number: ', i)\n",
    "    # Load article    \n",
    "    url = wyoming_news_df.loc[i,\"url\"] \n",
    "    article = Article(url.strip())\n",
    "    \n",
    "    # Extract the text\n",
    "    try:\n",
    "        article.download()\n",
    "        article.parse()\n",
    "        text = article.text\n",
    "        \n",
    "        wyoming_news_df.loc[i,\"text\"] = text.replace('\\n\\n', ' ')  \n",
    "        wyoming_news_df.loc[i,\"not_available\"] = 0\n",
    "    \n",
    "    # Otherwise, indicate as not available\n",
    "    except:\n",
    "        wyoming_news_df.loc[i,\"text\"] = \"NA\"\n",
    "        wyoming_news_df.loc[i,\"not_available\"] = 1\n",
    "        continue "
   ]
  },
  {
   "cell_type": "code",
   "execution_count": 242,
   "metadata": {},
   "outputs": [],
   "source": [
    "wyoming_news_result_file = \"wyoming_news_results.csv\"\n",
    "wyoming_news_df.to_csv(wyoming_news_result_file, index=False, encoding='utf-8')"
   ]
  },
  {
   "cell_type": "code",
   "execution_count": 244,
   "metadata": {},
   "outputs": [
    {
     "data": {
      "text/plain": [
       "0.0    139\n",
       "Name: not_available, dtype: int64"
      ]
     },
     "execution_count": 244,
     "metadata": {},
     "output_type": "execute_result"
    }
   ],
   "source": [
    "wyoming_news_df['not_available'].value_counts()"
   ]
  },
  {
   "cell_type": "code",
   "execution_count": 245,
   "metadata": {},
   "outputs": [
    {
     "data": {
      "text/plain": [
       "0.0    1.0\n",
       "Name: not_available, dtype: float64"
      ]
     },
     "execution_count": 245,
     "metadata": {},
     "output_type": "execute_result"
    }
   ],
   "source": [
    "wyoming_news_df['not_available'].value_counts(normalize=True)"
   ]
  },
  {
   "cell_type": "code",
   "execution_count": null,
   "metadata": {},
   "outputs": [],
   "source": [
    "# district_columbia"
   ]
  },
  {
   "cell_type": "code",
   "execution_count": 250,
   "metadata": {},
   "outputs": [
    {
     "name": "stdout",
     "output_type": "stream",
     "text": [
      "Number of articles to be processed:  862\n",
      "Currently processing article number:  0\n",
      "Currently processing article number:  100\n",
      "Currently processing article number:  200\n",
      "Currently processing article number:  300\n",
      "Currently processing article number:  400\n",
      "Currently processing article number:  500\n",
      "Currently processing article number:  600\n",
      "Currently processing article number:  700\n",
      "Currently processing article number:  800\n"
     ]
    }
   ],
   "source": [
    "print('Number of articles to be processed: ', district_columbia_news_size)\n",
    "\n",
    "for i in range(district_columbia_news_size):\n",
    "    # Where are we?\n",
    "    if i%100 == 0:\n",
    "        print('Currently processing article number: ', i)\n",
    "    # Load article    \n",
    "    url = district_columbia_news_df.loc[i,\"url\"] \n",
    "    article = Article(url.strip())\n",
    "    \n",
    "    # Extract the text\n",
    "    try:\n",
    "        article.download()\n",
    "        article.parse()\n",
    "        text = article.text\n",
    "        \n",
    "        district_columbia_news_df.loc[i,\"text\"] = text.replace('\\n\\n', ' ')  \n",
    "        district_columbia_news_df.loc[i,\"not_available\"] = 0\n",
    "    \n",
    "    # Otherwise, indicate as not available\n",
    "    except:\n",
    "        district_columbia_news_df.loc[i,\"text\"] = \"NA\"\n",
    "        district_columbia_news_df.loc[i,\"not_available\"] = 1\n",
    "        continue "
   ]
  },
  {
   "cell_type": "code",
   "execution_count": 251,
   "metadata": {},
   "outputs": [],
   "source": [
    "district_columbia_news_result_file = \"district_columbia_news_results.csv\"\n",
    "district_columbia_news_df.to_csv(district_columbia_news_result_file, index=False, encoding='utf-8')"
   ]
  },
  {
   "cell_type": "code",
   "execution_count": 252,
   "metadata": {},
   "outputs": [
    {
     "data": {
      "text/plain": [
       "0.0    845\n",
       "1.0     17\n",
       "Name: not_available, dtype: int64"
      ]
     },
     "execution_count": 252,
     "metadata": {},
     "output_type": "execute_result"
    }
   ],
   "source": [
    "district_columbia_news_df['not_available'].value_counts()"
   ]
  },
  {
   "cell_type": "code",
   "execution_count": 253,
   "metadata": {},
   "outputs": [
    {
     "data": {
      "text/plain": [
       "0.0    0.980278\n",
       "1.0    0.019722\n",
       "Name: not_available, dtype: float64"
      ]
     },
     "execution_count": 253,
     "metadata": {},
     "output_type": "execute_result"
    }
   ],
   "source": [
    "district_columbia_news_df['not_available'].value_counts(normalize=True)"
   ]
  },
  {
   "cell_type": "code",
   "execution_count": null,
   "metadata": {},
   "outputs": [],
   "source": []
  }
 ],
 "metadata": {
  "kernelspec": {
   "display_name": "Python 3",
   "language": "python",
   "name": "python3"
  },
  "language_info": {
   "codemirror_mode": {
    "name": "ipython",
    "version": 3
   },
   "file_extension": ".py",
   "mimetype": "text/x-python",
   "name": "python",
   "nbconvert_exporter": "python",
   "pygments_lexer": "ipython3",
   "version": "3.6.8"
  }
 },
 "nbformat": 4,
 "nbformat_minor": 2
}
